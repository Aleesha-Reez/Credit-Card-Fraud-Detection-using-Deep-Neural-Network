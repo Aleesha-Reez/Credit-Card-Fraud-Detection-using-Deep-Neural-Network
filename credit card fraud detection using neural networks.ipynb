{
 "cells": [
  {
   "cell_type": "markdown",
   "metadata": {},
   "source": [
    "#  Credit Card Fraud Detection\n"
   ]
  },
  {
   "cell_type": "markdown",
   "metadata": {},
   "source": [
    "### Team memebers:\n",
    "#### Aleesha Reez\n",
    "#### Ria Agnes Jose\n",
    "#### Sowmya Benakappa"
   ]
  },
  {
   "cell_type": "markdown",
   "metadata": {},
   "source": [
    "#### Our project is about the analysis of the credit card fraud detection using the Kaggle dataset\n",
    "#### https://www.kaggle.com/mlg-ulb/creditcardfraud?select=creditcard.csv\n",
    "\n",
    "#### The project detects the fraudulent transaction using Deep Neural Networks(Keras) that involves pattern classification in an unbalanced dataset\n"
   ]
  },
  {
   "cell_type": "code",
   "execution_count": 1,
   "metadata": {
    "_cell_guid": "b1076dfc-b9ad-4769-8c92-a6c4dae69d19",
    "_uuid": "8f2839f25d086af736a60e9eeb907d3b93b6e0e5"
   },
   "outputs": [
    {
     "name": "stderr",
     "output_type": "stream",
     "text": [
      "Using TensorFlow backend.\n"
     ]
    }
   ],
   "source": [
    "#importing libraries\n",
    "\n",
    "import numpy as np \n",
    "import pandas as pd\n",
    "from math import sqrt\n",
    "import keras\n",
    "import tensorflow as tf\n",
    "from keras import backend as K\n",
    "\n",
    "from imblearn.over_sampling import ADASYN \n",
    "from collections import Counter\n",
    "from scipy import stats\n",
    "\n",
    "%matplotlib inline\n",
    "import matplotlib.pyplot as plt\n",
    "from matplotlib import rcParams\n",
    "import seaborn as sns\n",
    "import IPython\n",
    "\n",
    "import warnings\n",
    "warnings.filterwarnings('ignore')\n",
    "\n",
    "import sklearn.utils\n",
    "from sklearn.preprocessing import StandardScaler \n",
    "from sklearn.model_selection import train_test_split\n",
    "from sklearn.metrics import accuracy_score, classification_report, confusion_matrix, make_scorer, precision_score, recall_score, f1_score, roc_auc_score, roc_curve, precision_recall_curve, average_precision_score, auc\n",
    "from sklearn.model_selection import GridSearchCV\n",
    "from sklearn.decomposition import PCA\n",
    "\n",
    "\n",
    "from keras.models import Sequential\n",
    "from keras.layers import Dense, Dropout\n",
    "from keras.optimizers import Adam\n",
    "from keras.wrappers.scikit_learn import KerasClassifier\n",
    "from keras.constraints import maxnorm\n",
    "from keras.utils.vis_utils import plot_model\n",
    "from keras.optimizers import Adam, Nadam, RMSprop\n",
    "from sklearn.metrics import auc\n",
    "\n",
    "from mlxtend.classifier import StackingClassifier\n",
    "from sklearn.ensemble import RandomForestClassifier\n",
    "from sklearn.neighbors import KNeighborsClassifier\n",
    "from sklearn.model_selection import RepeatedStratifiedKFold\n",
    "from sklearn.model_selection import cross_val_score\n",
    "from numpy import mean\n",
    "from numpy import std\n",
    "\n"
   ]
  },
  {
   "cell_type": "markdown",
   "metadata": {
    "_uuid": "688cfbf93de7e58bc5812f0fd4269d3214111dd5"
   },
   "source": [
    "### Reading Data from csv file"
   ]
  },
  {
   "cell_type": "code",
   "execution_count": 2,
   "metadata": {
    "_cell_guid": "79c7e3d0-c299-4dcb-8224-4455121ee9b0",
    "_uuid": "d629ff2d2480ee46fbb7e2d37f6b5fab8052498a"
   },
   "outputs": [
    {
     "name": "stdout",
     "output_type": "stream",
     "text": [
      "(284807, 31)\n"
     ]
    }
   ],
   "source": [
    "path = %pwd\n",
    "creditdata = pd.read_csv(f'{path}/creditcard.csv')\n",
    "print(creditdata.shape)"
   ]
  },
  {
   "cell_type": "code",
   "execution_count": 3,
   "metadata": {
    "_uuid": "8839a473606eb81d88eb141e7d8b6a1ff9f51e4d"
   },
   "outputs": [
    {
     "data": {
      "text/html": [
       "<div>\n",
       "<style scoped>\n",
       "    .dataframe tbody tr th:only-of-type {\n",
       "        vertical-align: middle;\n",
       "    }\n",
       "\n",
       "    .dataframe tbody tr th {\n",
       "        vertical-align: top;\n",
       "    }\n",
       "\n",
       "    .dataframe thead th {\n",
       "        text-align: right;\n",
       "    }\n",
       "</style>\n",
       "<table border=\"1\" class=\"dataframe\">\n",
       "  <thead>\n",
       "    <tr style=\"text-align: right;\">\n",
       "      <th></th>\n",
       "      <th>Time</th>\n",
       "      <th>V1</th>\n",
       "      <th>V2</th>\n",
       "      <th>V3</th>\n",
       "      <th>V4</th>\n",
       "      <th>V5</th>\n",
       "      <th>V6</th>\n",
       "      <th>V7</th>\n",
       "      <th>V8</th>\n",
       "      <th>V9</th>\n",
       "      <th>...</th>\n",
       "      <th>V21</th>\n",
       "      <th>V22</th>\n",
       "      <th>V23</th>\n",
       "      <th>V24</th>\n",
       "      <th>V25</th>\n",
       "      <th>V26</th>\n",
       "      <th>V27</th>\n",
       "      <th>V28</th>\n",
       "      <th>Amount</th>\n",
       "      <th>Class</th>\n",
       "    </tr>\n",
       "  </thead>\n",
       "  <tbody>\n",
       "    <tr>\n",
       "      <th>0</th>\n",
       "      <td>0.0</td>\n",
       "      <td>-1.359807</td>\n",
       "      <td>-0.072781</td>\n",
       "      <td>2.536347</td>\n",
       "      <td>1.378155</td>\n",
       "      <td>-0.338321</td>\n",
       "      <td>0.462388</td>\n",
       "      <td>0.239599</td>\n",
       "      <td>0.098698</td>\n",
       "      <td>0.363787</td>\n",
       "      <td>...</td>\n",
       "      <td>-0.018307</td>\n",
       "      <td>0.277838</td>\n",
       "      <td>-0.110474</td>\n",
       "      <td>0.066928</td>\n",
       "      <td>0.128539</td>\n",
       "      <td>-0.189115</td>\n",
       "      <td>0.133558</td>\n",
       "      <td>-0.021053</td>\n",
       "      <td>149.62</td>\n",
       "      <td>0</td>\n",
       "    </tr>\n",
       "    <tr>\n",
       "      <th>1</th>\n",
       "      <td>0.0</td>\n",
       "      <td>1.191857</td>\n",
       "      <td>0.266151</td>\n",
       "      <td>0.166480</td>\n",
       "      <td>0.448154</td>\n",
       "      <td>0.060018</td>\n",
       "      <td>-0.082361</td>\n",
       "      <td>-0.078803</td>\n",
       "      <td>0.085102</td>\n",
       "      <td>-0.255425</td>\n",
       "      <td>...</td>\n",
       "      <td>-0.225775</td>\n",
       "      <td>-0.638672</td>\n",
       "      <td>0.101288</td>\n",
       "      <td>-0.339846</td>\n",
       "      <td>0.167170</td>\n",
       "      <td>0.125895</td>\n",
       "      <td>-0.008983</td>\n",
       "      <td>0.014724</td>\n",
       "      <td>2.69</td>\n",
       "      <td>0</td>\n",
       "    </tr>\n",
       "    <tr>\n",
       "      <th>2</th>\n",
       "      <td>1.0</td>\n",
       "      <td>-1.358354</td>\n",
       "      <td>-1.340163</td>\n",
       "      <td>1.773209</td>\n",
       "      <td>0.379780</td>\n",
       "      <td>-0.503198</td>\n",
       "      <td>1.800499</td>\n",
       "      <td>0.791461</td>\n",
       "      <td>0.247676</td>\n",
       "      <td>-1.514654</td>\n",
       "      <td>...</td>\n",
       "      <td>0.247998</td>\n",
       "      <td>0.771679</td>\n",
       "      <td>0.909412</td>\n",
       "      <td>-0.689281</td>\n",
       "      <td>-0.327642</td>\n",
       "      <td>-0.139097</td>\n",
       "      <td>-0.055353</td>\n",
       "      <td>-0.059752</td>\n",
       "      <td>378.66</td>\n",
       "      <td>0</td>\n",
       "    </tr>\n",
       "    <tr>\n",
       "      <th>3</th>\n",
       "      <td>1.0</td>\n",
       "      <td>-0.966272</td>\n",
       "      <td>-0.185226</td>\n",
       "      <td>1.792993</td>\n",
       "      <td>-0.863291</td>\n",
       "      <td>-0.010309</td>\n",
       "      <td>1.247203</td>\n",
       "      <td>0.237609</td>\n",
       "      <td>0.377436</td>\n",
       "      <td>-1.387024</td>\n",
       "      <td>...</td>\n",
       "      <td>-0.108300</td>\n",
       "      <td>0.005274</td>\n",
       "      <td>-0.190321</td>\n",
       "      <td>-1.175575</td>\n",
       "      <td>0.647376</td>\n",
       "      <td>-0.221929</td>\n",
       "      <td>0.062723</td>\n",
       "      <td>0.061458</td>\n",
       "      <td>123.50</td>\n",
       "      <td>0</td>\n",
       "    </tr>\n",
       "    <tr>\n",
       "      <th>4</th>\n",
       "      <td>2.0</td>\n",
       "      <td>-1.158233</td>\n",
       "      <td>0.877737</td>\n",
       "      <td>1.548718</td>\n",
       "      <td>0.403034</td>\n",
       "      <td>-0.407193</td>\n",
       "      <td>0.095921</td>\n",
       "      <td>0.592941</td>\n",
       "      <td>-0.270533</td>\n",
       "      <td>0.817739</td>\n",
       "      <td>...</td>\n",
       "      <td>-0.009431</td>\n",
       "      <td>0.798278</td>\n",
       "      <td>-0.137458</td>\n",
       "      <td>0.141267</td>\n",
       "      <td>-0.206010</td>\n",
       "      <td>0.502292</td>\n",
       "      <td>0.219422</td>\n",
       "      <td>0.215153</td>\n",
       "      <td>69.99</td>\n",
       "      <td>0</td>\n",
       "    </tr>\n",
       "    <tr>\n",
       "      <th>5</th>\n",
       "      <td>2.0</td>\n",
       "      <td>-0.425966</td>\n",
       "      <td>0.960523</td>\n",
       "      <td>1.141109</td>\n",
       "      <td>-0.168252</td>\n",
       "      <td>0.420987</td>\n",
       "      <td>-0.029728</td>\n",
       "      <td>0.476201</td>\n",
       "      <td>0.260314</td>\n",
       "      <td>-0.568671</td>\n",
       "      <td>...</td>\n",
       "      <td>-0.208254</td>\n",
       "      <td>-0.559825</td>\n",
       "      <td>-0.026398</td>\n",
       "      <td>-0.371427</td>\n",
       "      <td>-0.232794</td>\n",
       "      <td>0.105915</td>\n",
       "      <td>0.253844</td>\n",
       "      <td>0.081080</td>\n",
       "      <td>3.67</td>\n",
       "      <td>0</td>\n",
       "    </tr>\n",
       "    <tr>\n",
       "      <th>6</th>\n",
       "      <td>4.0</td>\n",
       "      <td>1.229658</td>\n",
       "      <td>0.141004</td>\n",
       "      <td>0.045371</td>\n",
       "      <td>1.202613</td>\n",
       "      <td>0.191881</td>\n",
       "      <td>0.272708</td>\n",
       "      <td>-0.005159</td>\n",
       "      <td>0.081213</td>\n",
       "      <td>0.464960</td>\n",
       "      <td>...</td>\n",
       "      <td>-0.167716</td>\n",
       "      <td>-0.270710</td>\n",
       "      <td>-0.154104</td>\n",
       "      <td>-0.780055</td>\n",
       "      <td>0.750137</td>\n",
       "      <td>-0.257237</td>\n",
       "      <td>0.034507</td>\n",
       "      <td>0.005168</td>\n",
       "      <td>4.99</td>\n",
       "      <td>0</td>\n",
       "    </tr>\n",
       "    <tr>\n",
       "      <th>7</th>\n",
       "      <td>7.0</td>\n",
       "      <td>-0.644269</td>\n",
       "      <td>1.417964</td>\n",
       "      <td>1.074380</td>\n",
       "      <td>-0.492199</td>\n",
       "      <td>0.948934</td>\n",
       "      <td>0.428118</td>\n",
       "      <td>1.120631</td>\n",
       "      <td>-3.807864</td>\n",
       "      <td>0.615375</td>\n",
       "      <td>...</td>\n",
       "      <td>1.943465</td>\n",
       "      <td>-1.015455</td>\n",
       "      <td>0.057504</td>\n",
       "      <td>-0.649709</td>\n",
       "      <td>-0.415267</td>\n",
       "      <td>-0.051634</td>\n",
       "      <td>-1.206921</td>\n",
       "      <td>-1.085339</td>\n",
       "      <td>40.80</td>\n",
       "      <td>0</td>\n",
       "    </tr>\n",
       "    <tr>\n",
       "      <th>8</th>\n",
       "      <td>7.0</td>\n",
       "      <td>-0.894286</td>\n",
       "      <td>0.286157</td>\n",
       "      <td>-0.113192</td>\n",
       "      <td>-0.271526</td>\n",
       "      <td>2.669599</td>\n",
       "      <td>3.721818</td>\n",
       "      <td>0.370145</td>\n",
       "      <td>0.851084</td>\n",
       "      <td>-0.392048</td>\n",
       "      <td>...</td>\n",
       "      <td>-0.073425</td>\n",
       "      <td>-0.268092</td>\n",
       "      <td>-0.204233</td>\n",
       "      <td>1.011592</td>\n",
       "      <td>0.373205</td>\n",
       "      <td>-0.384157</td>\n",
       "      <td>0.011747</td>\n",
       "      <td>0.142404</td>\n",
       "      <td>93.20</td>\n",
       "      <td>0</td>\n",
       "    </tr>\n",
       "    <tr>\n",
       "      <th>9</th>\n",
       "      <td>9.0</td>\n",
       "      <td>-0.338262</td>\n",
       "      <td>1.119593</td>\n",
       "      <td>1.044367</td>\n",
       "      <td>-0.222187</td>\n",
       "      <td>0.499361</td>\n",
       "      <td>-0.246761</td>\n",
       "      <td>0.651583</td>\n",
       "      <td>0.069539</td>\n",
       "      <td>-0.736727</td>\n",
       "      <td>...</td>\n",
       "      <td>-0.246914</td>\n",
       "      <td>-0.633753</td>\n",
       "      <td>-0.120794</td>\n",
       "      <td>-0.385050</td>\n",
       "      <td>-0.069733</td>\n",
       "      <td>0.094199</td>\n",
       "      <td>0.246219</td>\n",
       "      <td>0.083076</td>\n",
       "      <td>3.68</td>\n",
       "      <td>0</td>\n",
       "    </tr>\n",
       "  </tbody>\n",
       "</table>\n",
       "<p>10 rows × 31 columns</p>\n",
       "</div>"
      ],
      "text/plain": [
       "   Time        V1        V2        V3        V4        V5        V6        V7  \\\n",
       "0   0.0 -1.359807 -0.072781  2.536347  1.378155 -0.338321  0.462388  0.239599   \n",
       "1   0.0  1.191857  0.266151  0.166480  0.448154  0.060018 -0.082361 -0.078803   \n",
       "2   1.0 -1.358354 -1.340163  1.773209  0.379780 -0.503198  1.800499  0.791461   \n",
       "3   1.0 -0.966272 -0.185226  1.792993 -0.863291 -0.010309  1.247203  0.237609   \n",
       "4   2.0 -1.158233  0.877737  1.548718  0.403034 -0.407193  0.095921  0.592941   \n",
       "5   2.0 -0.425966  0.960523  1.141109 -0.168252  0.420987 -0.029728  0.476201   \n",
       "6   4.0  1.229658  0.141004  0.045371  1.202613  0.191881  0.272708 -0.005159   \n",
       "7   7.0 -0.644269  1.417964  1.074380 -0.492199  0.948934  0.428118  1.120631   \n",
       "8   7.0 -0.894286  0.286157 -0.113192 -0.271526  2.669599  3.721818  0.370145   \n",
       "9   9.0 -0.338262  1.119593  1.044367 -0.222187  0.499361 -0.246761  0.651583   \n",
       "\n",
       "         V8        V9  ...       V21       V22       V23       V24       V25  \\\n",
       "0  0.098698  0.363787  ... -0.018307  0.277838 -0.110474  0.066928  0.128539   \n",
       "1  0.085102 -0.255425  ... -0.225775 -0.638672  0.101288 -0.339846  0.167170   \n",
       "2  0.247676 -1.514654  ...  0.247998  0.771679  0.909412 -0.689281 -0.327642   \n",
       "3  0.377436 -1.387024  ... -0.108300  0.005274 -0.190321 -1.175575  0.647376   \n",
       "4 -0.270533  0.817739  ... -0.009431  0.798278 -0.137458  0.141267 -0.206010   \n",
       "5  0.260314 -0.568671  ... -0.208254 -0.559825 -0.026398 -0.371427 -0.232794   \n",
       "6  0.081213  0.464960  ... -0.167716 -0.270710 -0.154104 -0.780055  0.750137   \n",
       "7 -3.807864  0.615375  ...  1.943465 -1.015455  0.057504 -0.649709 -0.415267   \n",
       "8  0.851084 -0.392048  ... -0.073425 -0.268092 -0.204233  1.011592  0.373205   \n",
       "9  0.069539 -0.736727  ... -0.246914 -0.633753 -0.120794 -0.385050 -0.069733   \n",
       "\n",
       "        V26       V27       V28  Amount  Class  \n",
       "0 -0.189115  0.133558 -0.021053  149.62      0  \n",
       "1  0.125895 -0.008983  0.014724    2.69      0  \n",
       "2 -0.139097 -0.055353 -0.059752  378.66      0  \n",
       "3 -0.221929  0.062723  0.061458  123.50      0  \n",
       "4  0.502292  0.219422  0.215153   69.99      0  \n",
       "5  0.105915  0.253844  0.081080    3.67      0  \n",
       "6 -0.257237  0.034507  0.005168    4.99      0  \n",
       "7 -0.051634 -1.206921 -1.085339   40.80      0  \n",
       "8 -0.384157  0.011747  0.142404   93.20      0  \n",
       "9  0.094199  0.246219  0.083076    3.68      0  \n",
       "\n",
       "[10 rows x 31 columns]"
      ]
     },
     "execution_count": 3,
     "metadata": {},
     "output_type": "execute_result"
    }
   ],
   "source": [
    "creditdata.head(n=10)"
   ]
  },
  {
   "cell_type": "markdown",
   "metadata": {},
   "source": [
    "### Data Exploration and Imputation"
   ]
  },
  {
   "cell_type": "code",
   "execution_count": 4,
   "metadata": {
    "_uuid": "a800376a978651bf103a947b5f33835602645f2a",
    "scrolled": true
   },
   "outputs": [
    {
     "name": "stdout",
     "output_type": "stream",
     "text": [
      "<class 'pandas.core.frame.DataFrame'>\n",
      "RangeIndex: 284807 entries, 0 to 284806\n",
      "Data columns (total 31 columns):\n",
      " #   Column  Non-Null Count   Dtype  \n",
      "---  ------  --------------   -----  \n",
      " 0   Time    284807 non-null  float64\n",
      " 1   V1      284807 non-null  float64\n",
      " 2   V2      284807 non-null  float64\n",
      " 3   V3      284807 non-null  float64\n",
      " 4   V4      284807 non-null  float64\n",
      " 5   V5      284807 non-null  float64\n",
      " 6   V6      284807 non-null  float64\n",
      " 7   V7      284807 non-null  float64\n",
      " 8   V8      284807 non-null  float64\n",
      " 9   V9      284807 non-null  float64\n",
      " 10  V10     284807 non-null  float64\n",
      " 11  V11     284807 non-null  float64\n",
      " 12  V12     284807 non-null  float64\n",
      " 13  V13     284807 non-null  float64\n",
      " 14  V14     284807 non-null  float64\n",
      " 15  V15     284807 non-null  float64\n",
      " 16  V16     284807 non-null  float64\n",
      " 17  V17     284807 non-null  float64\n",
      " 18  V18     284807 non-null  float64\n",
      " 19  V19     284807 non-null  float64\n",
      " 20  V20     284807 non-null  float64\n",
      " 21  V21     284807 non-null  float64\n",
      " 22  V22     284807 non-null  float64\n",
      " 23  V23     284807 non-null  float64\n",
      " 24  V24     284807 non-null  float64\n",
      " 25  V25     284807 non-null  float64\n",
      " 26  V26     284807 non-null  float64\n",
      " 27  V27     284807 non-null  float64\n",
      " 28  V28     284807 non-null  float64\n",
      " 29  Amount  284807 non-null  float64\n",
      " 30  Class   284807 non-null  int64  \n",
      "dtypes: float64(30), int64(1)\n",
      "memory usage: 67.4 MB\n"
     ]
    }
   ],
   "source": [
    "creditdata.info()"
   ]
  },
  {
   "cell_type": "markdown",
   "metadata": {
    "_uuid": "c9d4dbb7f5842d34dbed7f4fe764eb31f56da666"
   },
   "source": [
    "instances found: 284807 and attributes found :  31."
   ]
  },
  {
   "cell_type": "code",
   "execution_count": 5,
   "metadata": {
    "_uuid": "e0c2a771f98176ced86437b5ed5c7d9c19c2996b"
   },
   "outputs": [
    {
     "data": {
      "text/plain": [
       "Time      0\n",
       "V1        0\n",
       "V2        0\n",
       "V3        0\n",
       "V4        0\n",
       "V5        0\n",
       "V6        0\n",
       "V7        0\n",
       "V8        0\n",
       "V9        0\n",
       "V10       0\n",
       "V11       0\n",
       "V12       0\n",
       "V13       0\n",
       "V14       0\n",
       "V15       0\n",
       "V16       0\n",
       "V17       0\n",
       "V18       0\n",
       "V19       0\n",
       "V20       0\n",
       "V21       0\n",
       "V22       0\n",
       "V23       0\n",
       "V24       0\n",
       "V25       0\n",
       "V26       0\n",
       "V27       0\n",
       "V28       0\n",
       "Amount    0\n",
       "Class     0\n",
       "dtype: int64"
      ]
     },
     "execution_count": 5,
     "metadata": {},
     "output_type": "execute_result"
    }
   ],
   "source": [
    "#Summary of null values\n",
    "creditdata.isnull().sum()"
   ]
  },
  {
   "cell_type": "markdown",
   "metadata": {
    "_uuid": "c2ba33fa4673e5531714e5aef568e3ab12d7c737"
   },
   "source": [
    "we found no missing values."
   ]
  },
  {
   "cell_type": "code",
   "execution_count": 6,
   "metadata": {
    "_uuid": "20cffdc3ddfcfed6b39cbc5be053b02fbcdde52f"
   },
   "outputs": [
    {
     "data": {
      "text/plain": [
       "Index(['Time', 'V1', 'V2', 'V3', 'V4', 'V5', 'V6', 'V7', 'V8', 'V9', 'V10',\n",
       "       'V11', 'V12', 'V13', 'V14', 'V15', 'V16', 'V17', 'V18', 'V19', 'V20',\n",
       "       'V21', 'V22', 'V23', 'V24', 'V25', 'V26', 'V27', 'V28', 'Amount',\n",
       "       'Class'],\n",
       "      dtype='object')"
      ]
     },
     "execution_count": 6,
     "metadata": {},
     "output_type": "execute_result"
    }
   ],
   "source": [
    "creditdata.columns"
   ]
  },
  {
   "cell_type": "code",
   "execution_count": 7,
   "metadata": {},
   "outputs": [
    {
     "data": {
      "text/plain": [
       "2"
      ]
     },
     "execution_count": 7,
     "metadata": {},
     "output_type": "execute_result"
    }
   ],
   "source": [
    "creditdata['Class'].nunique()"
   ]
  },
  {
   "cell_type": "markdown",
   "metadata": {
    "_uuid": "a9ab705a42d3e999d07c2c025161bb3a4f3df05d"
   },
   "source": [
    "we have encountered only 2 classes."
   ]
  },
  {
   "cell_type": "code",
   "execution_count": 8,
   "metadata": {
    "_uuid": "65ee58a18183a27bc5ee02e0ab7a3bce0fe2b2ae"
   },
   "outputs": [
    {
     "data": {
      "text/plain": [
       "0    284315\n",
       "1       492\n",
       "Name: Class, dtype: int64"
      ]
     },
     "execution_count": 8,
     "metadata": {},
     "output_type": "execute_result"
    }
   ],
   "source": [
    "creditdata['Class'].value_counts()"
   ]
  },
  {
   "cell_type": "markdown",
   "metadata": {
    "_uuid": "5c54353c3288e571a20029b7acd6e54656068cb2"
   },
   "source": [
    "Genuine(0):284315  Fraudulent(1): 492. it is a complete imbalance of classes."
   ]
  },
  {
   "cell_type": "code",
   "execution_count": 9,
   "metadata": {
    "_uuid": "6a4fc54b30e26cace74115aaf0df177b2f24e764"
   },
   "outputs": [
    {
     "data": {
      "text/plain": [
       "<AxesSubplot:>"
      ]
     },
     "execution_count": 9,
     "metadata": {},
     "output_type": "execute_result"
    },
    {
     "data": {
      "image/png": "[encoded data removed]",
      "text/plain": [
       "<Figure size 432x288 with 1 Axes>"
      ]
     },
     "metadata": {
      "needs_background": "light"
     },
     "output_type": "display_data"
    }
   ],
   "source": [
    "#The below graph gives a visual representation of the class imbalance.\n",
    "creditdata.Class.value_counts().plot.bar()"
   ]
  },
  {
   "cell_type": "code",
   "execution_count": 10,
   "metadata": {
    "_kg_hide-output": false,
    "_uuid": "fd5ecfc1499af89889e780e98a2ac702b3faeced"
   },
   "outputs": [
    {
     "data": {
      "text/plain": [
       "<seaborn.axisgrid.FacetGrid at 0x234511e03c8>"
      ]
     },
     "execution_count": 10,
     "metadata": {},
     "output_type": "execute_result"
    },
    {
     "data": {
      "image/png": "[encoded data removed]",
      "text/plain": [
       "<Figure size 402.375x360 with 1 Axes>"
      ]
     },
     "metadata": {
      "needs_background": "light"
     },
     "output_type": "display_data"
    }
   ],
   "source": [
    "#For a better visualization of the imbalance in the datasets used PCA\n",
    "pca= PCA(n_components=2)\n",
    "creditdata_graph= pd.DataFrame(pca.fit_transform(creditdata.iloc[:,0:30]))\n",
    "creditdata_graph= pd.concat([creditdata_graph, creditdata['Class']], axis=1)\n",
    "creditdata_graph.columns= ['x', 'y', 'Class']\n",
    "sns.lmplot(x='x', y='y', data=creditdata_graph, fit_reg=False, hue='Class')"
   ]
  },
  {
   "cell_type": "code",
   "execution_count": 11,
   "metadata": {
    "_uuid": "262cd8032c3c0fc673b24e1a736879f49c85fe8b"
   },
   "outputs": [
    {
     "data": {
      "text/plain": [
       "0    0.998273\n",
       "1    0.001727\n",
       "Name: Class, dtype: float64"
      ]
     },
     "execution_count": 11,
     "metadata": {},
     "output_type": "execute_result"
    }
   ],
   "source": [
    "#calculating percentage for each class\n",
    "(creditdata.Class.value_counts())/(creditdata.Class.count())"
   ]
  },
  {
   "cell_type": "code",
   "execution_count": 12,
   "metadata": {
    "_uuid": "6582d8d6d1de0622a44270d381538362ee898ae4",
    "scrolled": true
   },
   "outputs": [
    {
     "data": {
      "image/png": "[encoded data removed]",
      "text/plain": [
       "<Figure size 864x288 with 2 Axes>"
      ]
     },
     "metadata": {
      "needs_background": "light"
     },
     "output_type": "display_data"
    }
   ],
   "source": [
    "#Histrogram for feature Time\n",
    "f, (ax1, ax2) = plt.subplots(2, 1, sharex=True, figsize=(12,4))\n",
    "\n",
    "ax1.hist(creditdata[\"Time\"][creditdata[\"Class\"] == 1], bins = 50)\n",
    "ax1.set_title('Fraudulent')\n",
    "\n",
    "ax2.hist(creditdata[\"Time\"][creditdata[\"Class\"] == 0], bins = 50)\n",
    "ax2.set_title('Genuine')\n",
    "\n",
    "plt.xlabel('Seconds after transaction number zero')\n",
    "plt.ylabel('Number of Transactions')\n",
    "plt.show()"
   ]
  },
  {
   "cell_type": "markdown",
   "metadata": {
    "_uuid": "bd89458d4088fbcdd4691924d6b50c30e5e4b5d3"
   },
   "source": [
    "time feature does not provide any useful information.Thus,we'll drop this feature."
   ]
  },
  {
   "cell_type": "code",
   "execution_count": 13,
   "metadata": {},
   "outputs": [
    {
     "data": {
      "image/png": "[encoded data removed]",
      "text/plain": [
       "<Figure size 864x288 with 2 Axes>"
      ]
     },
     "metadata": {
      "needs_background": "light"
     },
     "output_type": "display_data"
    }
   ],
   "source": [
    "#Histrogram for Amount\n",
    "f, (ax1, ax2) = plt.subplots(2, 1, sharex=True,figsize=(12,4))\n",
    "\n",
    "ax1.hist(creditdata[\"Amount\"][creditdata[\"Class\"] == 1], bins = 50)\n",
    "ax1.set_title('Fraudulent')\n",
    "\n",
    "ax2.hist(creditdata[\"Amount\"][creditdata[\"Class\"] == 0], bins = 50)\n",
    "ax2.set_title('Genuine')\n",
    "\n",
    "plt.xlabel('Seconds after transaction number zero')\n",
    "plt.ylabel('Number of Transactions')\n",
    "plt.xlim((0, 20000))\n",
    "plt.yscale('log')\n",
    "plt.show()\n"
   ]
  },
  {
   "cell_type": "code",
   "execution_count": 14,
   "metadata": {
    "_uuid": "6109f88ba2d24897a53432f79e7061d7b31c1970"
   },
   "outputs": [
    {
     "data": {
      "text/plain": [
       "(284807, 30)"
      ]
     },
     "execution_count": 14,
     "metadata": {},
     "output_type": "execute_result"
    }
   ],
   "source": [
    "#Time column is dropped because of no valuable information\n",
    "creditdata = creditdata.drop(\"Time\", axis = 1)\n",
    "creditdata.shape"
   ]
  },
  {
   "cell_type": "code",
   "execution_count": 15,
   "metadata": {
    "_uuid": "ceca6db901ec119d7f66fe7e9855dc246744d91a",
    "scrolled": true
   },
   "outputs": [
    {
     "data": {
      "text/plain": [
       "V1            3.836489\n",
       "V2            2.726820\n",
       "V3            2.299029\n",
       "V4            2.004684\n",
       "V5            1.905081\n",
       "V6            1.774946\n",
       "V7            1.530401\n",
       "V8            1.426479\n",
       "V9            1.206992\n",
       "V10           1.185594\n",
       "V11           1.041855\n",
       "V12           0.998403\n",
       "V13           0.990571\n",
       "V14           0.918906\n",
       "V15           0.837803\n",
       "V16           0.767819\n",
       "V17           0.721373\n",
       "V18           0.702539\n",
       "V19           0.662662\n",
       "V20           0.594325\n",
       "V21           0.539526\n",
       "V22           0.526643\n",
       "V23           0.389951\n",
       "V24           0.366808\n",
       "V25           0.271731\n",
       "V26           0.232543\n",
       "V27           0.162919\n",
       "V28           0.108955\n",
       "Amount    62560.069046\n",
       "Class         0.001725\n",
       "dtype: float64"
      ]
     },
     "execution_count": 15,
     "metadata": {},
     "output_type": "execute_result"
    }
   ],
   "source": [
    "#since the magnitude for amount is larger than the others,let's scale Amount column.\n",
    "creditdata.var()"
   ]
  },
  {
   "cell_type": "markdown",
   "metadata": {},
   "source": [
    "### Data Pre-Processing: \n",
    "\n",
    "#### since our dataset is a classification problem, we used StandardScaler to pre process the data.\n",
    "\n",
    "#### Standardize columns by removing the mean and scaling to unit variance\n",
    "\n",
    "#### It transforms the data in such a manner that it has mean as 0 and standard deviation as 1. In short, it standardizes the data. Standardization is useful for data which has negative values. It arranges the data in a standard normal distribution."
   ]
  },
  {
   "cell_type": "code",
   "execution_count": 16,
   "metadata": {
    "_uuid": "c9e282023e018c984bfb33bc46662253b23cf68d"
   },
   "outputs": [
    {
     "data": {
      "text/html": [
       "<div>\n",
       "<style scoped>\n",
       "    .dataframe tbody tr th:only-of-type {\n",
       "        vertical-align: middle;\n",
       "    }\n",
       "\n",
       "    .dataframe tbody tr th {\n",
       "        vertical-align: top;\n",
       "    }\n",
       "\n",
       "    .dataframe thead th {\n",
       "        text-align: right;\n",
       "    }\n",
       "</style>\n",
       "<table border=\"1\" class=\"dataframe\">\n",
       "  <thead>\n",
       "    <tr style=\"text-align: right;\">\n",
       "      <th></th>\n",
       "      <th>V1</th>\n",
       "      <th>V2</th>\n",
       "      <th>V3</th>\n",
       "      <th>V4</th>\n",
       "      <th>V5</th>\n",
       "      <th>V6</th>\n",
       "      <th>V7</th>\n",
       "      <th>V8</th>\n",
       "      <th>V9</th>\n",
       "      <th>V10</th>\n",
       "      <th>...</th>\n",
       "      <th>V22</th>\n",
       "      <th>V23</th>\n",
       "      <th>V24</th>\n",
       "      <th>V25</th>\n",
       "      <th>V26</th>\n",
       "      <th>V27</th>\n",
       "      <th>V28</th>\n",
       "      <th>Amount</th>\n",
       "      <th>Class</th>\n",
       "      <th>Std_Amount</th>\n",
       "    </tr>\n",
       "  </thead>\n",
       "  <tbody>\n",
       "    <tr>\n",
       "      <th>0</th>\n",
       "      <td>-1.359807</td>\n",
       "      <td>-0.072781</td>\n",
       "      <td>2.536347</td>\n",
       "      <td>1.378155</td>\n",
       "      <td>-0.338321</td>\n",
       "      <td>0.462388</td>\n",
       "      <td>0.239599</td>\n",
       "      <td>0.098698</td>\n",
       "      <td>0.363787</td>\n",
       "      <td>0.090794</td>\n",
       "      <td>...</td>\n",
       "      <td>0.277838</td>\n",
       "      <td>-0.110474</td>\n",
       "      <td>0.066928</td>\n",
       "      <td>0.128539</td>\n",
       "      <td>-0.189115</td>\n",
       "      <td>0.133558</td>\n",
       "      <td>-0.021053</td>\n",
       "      <td>149.62</td>\n",
       "      <td>0</td>\n",
       "      <td>0.244964</td>\n",
       "    </tr>\n",
       "    <tr>\n",
       "      <th>1</th>\n",
       "      <td>1.191857</td>\n",
       "      <td>0.266151</td>\n",
       "      <td>0.166480</td>\n",
       "      <td>0.448154</td>\n",
       "      <td>0.060018</td>\n",
       "      <td>-0.082361</td>\n",
       "      <td>-0.078803</td>\n",
       "      <td>0.085102</td>\n",
       "      <td>-0.255425</td>\n",
       "      <td>-0.166974</td>\n",
       "      <td>...</td>\n",
       "      <td>-0.638672</td>\n",
       "      <td>0.101288</td>\n",
       "      <td>-0.339846</td>\n",
       "      <td>0.167170</td>\n",
       "      <td>0.125895</td>\n",
       "      <td>-0.008983</td>\n",
       "      <td>0.014724</td>\n",
       "      <td>2.69</td>\n",
       "      <td>0</td>\n",
       "      <td>-0.342475</td>\n",
       "    </tr>\n",
       "    <tr>\n",
       "      <th>2</th>\n",
       "      <td>-1.358354</td>\n",
       "      <td>-1.340163</td>\n",
       "      <td>1.773209</td>\n",
       "      <td>0.379780</td>\n",
       "      <td>-0.503198</td>\n",
       "      <td>1.800499</td>\n",
       "      <td>0.791461</td>\n",
       "      <td>0.247676</td>\n",
       "      <td>-1.514654</td>\n",
       "      <td>0.207643</td>\n",
       "      <td>...</td>\n",
       "      <td>0.771679</td>\n",
       "      <td>0.909412</td>\n",
       "      <td>-0.689281</td>\n",
       "      <td>-0.327642</td>\n",
       "      <td>-0.139097</td>\n",
       "      <td>-0.055353</td>\n",
       "      <td>-0.059752</td>\n",
       "      <td>378.66</td>\n",
       "      <td>0</td>\n",
       "      <td>1.160686</td>\n",
       "    </tr>\n",
       "    <tr>\n",
       "      <th>3</th>\n",
       "      <td>-0.966272</td>\n",
       "      <td>-0.185226</td>\n",
       "      <td>1.792993</td>\n",
       "      <td>-0.863291</td>\n",
       "      <td>-0.010309</td>\n",
       "      <td>1.247203</td>\n",
       "      <td>0.237609</td>\n",
       "      <td>0.377436</td>\n",
       "      <td>-1.387024</td>\n",
       "      <td>-0.054952</td>\n",
       "      <td>...</td>\n",
       "      <td>0.005274</td>\n",
       "      <td>-0.190321</td>\n",
       "      <td>-1.175575</td>\n",
       "      <td>0.647376</td>\n",
       "      <td>-0.221929</td>\n",
       "      <td>0.062723</td>\n",
       "      <td>0.061458</td>\n",
       "      <td>123.50</td>\n",
       "      <td>0</td>\n",
       "      <td>0.140534</td>\n",
       "    </tr>\n",
       "    <tr>\n",
       "      <th>4</th>\n",
       "      <td>-1.158233</td>\n",
       "      <td>0.877737</td>\n",
       "      <td>1.548718</td>\n",
       "      <td>0.403034</td>\n",
       "      <td>-0.407193</td>\n",
       "      <td>0.095921</td>\n",
       "      <td>0.592941</td>\n",
       "      <td>-0.270533</td>\n",
       "      <td>0.817739</td>\n",
       "      <td>0.753074</td>\n",
       "      <td>...</td>\n",
       "      <td>0.798278</td>\n",
       "      <td>-0.137458</td>\n",
       "      <td>0.141267</td>\n",
       "      <td>-0.206010</td>\n",
       "      <td>0.502292</td>\n",
       "      <td>0.219422</td>\n",
       "      <td>0.215153</td>\n",
       "      <td>69.99</td>\n",
       "      <td>0</td>\n",
       "      <td>-0.073403</td>\n",
       "    </tr>\n",
       "  </tbody>\n",
       "</table>\n",
       "<p>5 rows × 31 columns</p>\n",
       "</div>"
      ],
      "text/plain": [
       "         V1        V2        V3        V4        V5        V6        V7  \\\n",
       "0 -1.359807 -0.072781  2.536347  1.378155 -0.338321  0.462388  0.239599   \n",
       "1  1.191857  0.266151  0.166480  0.448154  0.060018 -0.082361 -0.078803   \n",
       "2 -1.358354 -1.340163  1.773209  0.379780 -0.503198  1.800499  0.791461   \n",
       "3 -0.966272 -0.185226  1.792993 -0.863291 -0.010309  1.247203  0.237609   \n",
       "4 -1.158233  0.877737  1.548718  0.403034 -0.407193  0.095921  0.592941   \n",
       "\n",
       "         V8        V9       V10  ...       V22       V23       V24       V25  \\\n",
       "0  0.098698  0.363787  0.090794  ...  0.277838 -0.110474  0.066928  0.128539   \n",
       "1  0.085102 -0.255425 -0.166974  ... -0.638672  0.101288 -0.339846  0.167170   \n",
       "2  0.247676 -1.514654  0.207643  ...  0.771679  0.909412 -0.689281 -0.327642   \n",
       "3  0.377436 -1.387024 -0.054952  ...  0.005274 -0.190321 -1.175575  0.647376   \n",
       "4 -0.270533  0.817739  0.753074  ...  0.798278 -0.137458  0.141267 -0.206010   \n",
       "\n",
       "        V26       V27       V28  Amount  Class  Std_Amount  \n",
       "0 -0.189115  0.133558 -0.021053  149.62      0    0.244964  \n",
       "1  0.125895 -0.008983  0.014724    2.69      0   -0.342475  \n",
       "2 -0.139097 -0.055353 -0.059752  378.66      0    1.160686  \n",
       "3 -0.221929  0.062723  0.061458  123.50      0    0.140534  \n",
       "4  0.502292  0.219422  0.215153   69.99      0   -0.073403  \n",
       "\n",
       "[5 rows x 31 columns]"
      ]
     },
     "execution_count": 16,
     "metadata": {},
     "output_type": "execute_result"
    }
   ],
   "source": [
    "sc = StandardScaler()\n",
    "creditdata['Std_Amount'] = sc.fit_transform(creditdata['Amount'].values.reshape(-1, 1))\n",
    "creditdata.head()"
   ]
  },
  {
   "cell_type": "code",
   "execution_count": 17,
   "metadata": {
    "_uuid": "48607508d0c739386e7218bd0b3c02d335480296"
   },
   "outputs": [
    {
     "data": {
      "text/html": [
       "<div>\n",
       "<style scoped>\n",
       "    .dataframe tbody tr th:only-of-type {\n",
       "        vertical-align: middle;\n",
       "    }\n",
       "\n",
       "    .dataframe tbody tr th {\n",
       "        vertical-align: top;\n",
       "    }\n",
       "\n",
       "    .dataframe thead th {\n",
       "        text-align: right;\n",
       "    }\n",
       "</style>\n",
       "<table border=\"1\" class=\"dataframe\">\n",
       "  <thead>\n",
       "    <tr style=\"text-align: right;\">\n",
       "      <th></th>\n",
       "      <th>Std_Amount</th>\n",
       "      <th>V1</th>\n",
       "      <th>V2</th>\n",
       "      <th>V3</th>\n",
       "      <th>V4</th>\n",
       "      <th>V5</th>\n",
       "      <th>V6</th>\n",
       "      <th>V7</th>\n",
       "      <th>V8</th>\n",
       "      <th>V9</th>\n",
       "      <th>...</th>\n",
       "      <th>V20</th>\n",
       "      <th>V21</th>\n",
       "      <th>V22</th>\n",
       "      <th>V23</th>\n",
       "      <th>V24</th>\n",
       "      <th>V25</th>\n",
       "      <th>V26</th>\n",
       "      <th>V27</th>\n",
       "      <th>V28</th>\n",
       "      <th>Class</th>\n",
       "    </tr>\n",
       "  </thead>\n",
       "  <tbody>\n",
       "    <tr>\n",
       "      <th>0</th>\n",
       "      <td>0.244964</td>\n",
       "      <td>-1.359807</td>\n",
       "      <td>-0.072781</td>\n",
       "      <td>2.536347</td>\n",
       "      <td>1.378155</td>\n",
       "      <td>-0.338321</td>\n",
       "      <td>0.462388</td>\n",
       "      <td>0.239599</td>\n",
       "      <td>0.098698</td>\n",
       "      <td>0.363787</td>\n",
       "      <td>...</td>\n",
       "      <td>0.251412</td>\n",
       "      <td>-0.018307</td>\n",
       "      <td>0.277838</td>\n",
       "      <td>-0.110474</td>\n",
       "      <td>0.066928</td>\n",
       "      <td>0.128539</td>\n",
       "      <td>-0.189115</td>\n",
       "      <td>0.133558</td>\n",
       "      <td>-0.021053</td>\n",
       "      <td>0</td>\n",
       "    </tr>\n",
       "    <tr>\n",
       "      <th>1</th>\n",
       "      <td>-0.342475</td>\n",
       "      <td>1.191857</td>\n",
       "      <td>0.266151</td>\n",
       "      <td>0.166480</td>\n",
       "      <td>0.448154</td>\n",
       "      <td>0.060018</td>\n",
       "      <td>-0.082361</td>\n",
       "      <td>-0.078803</td>\n",
       "      <td>0.085102</td>\n",
       "      <td>-0.255425</td>\n",
       "      <td>...</td>\n",
       "      <td>-0.069083</td>\n",
       "      <td>-0.225775</td>\n",
       "      <td>-0.638672</td>\n",
       "      <td>0.101288</td>\n",
       "      <td>-0.339846</td>\n",
       "      <td>0.167170</td>\n",
       "      <td>0.125895</td>\n",
       "      <td>-0.008983</td>\n",
       "      <td>0.014724</td>\n",
       "      <td>0</td>\n",
       "    </tr>\n",
       "    <tr>\n",
       "      <th>2</th>\n",
       "      <td>1.160686</td>\n",
       "      <td>-1.358354</td>\n",
       "      <td>-1.340163</td>\n",
       "      <td>1.773209</td>\n",
       "      <td>0.379780</td>\n",
       "      <td>-0.503198</td>\n",
       "      <td>1.800499</td>\n",
       "      <td>0.791461</td>\n",
       "      <td>0.247676</td>\n",
       "      <td>-1.514654</td>\n",
       "      <td>...</td>\n",
       "      <td>0.524980</td>\n",
       "      <td>0.247998</td>\n",
       "      <td>0.771679</td>\n",
       "      <td>0.909412</td>\n",
       "      <td>-0.689281</td>\n",
       "      <td>-0.327642</td>\n",
       "      <td>-0.139097</td>\n",
       "      <td>-0.055353</td>\n",
       "      <td>-0.059752</td>\n",
       "      <td>0</td>\n",
       "    </tr>\n",
       "    <tr>\n",
       "      <th>3</th>\n",
       "      <td>0.140534</td>\n",
       "      <td>-0.966272</td>\n",
       "      <td>-0.185226</td>\n",
       "      <td>1.792993</td>\n",
       "      <td>-0.863291</td>\n",
       "      <td>-0.010309</td>\n",
       "      <td>1.247203</td>\n",
       "      <td>0.237609</td>\n",
       "      <td>0.377436</td>\n",
       "      <td>-1.387024</td>\n",
       "      <td>...</td>\n",
       "      <td>-0.208038</td>\n",
       "      <td>-0.108300</td>\n",
       "      <td>0.005274</td>\n",
       "      <td>-0.190321</td>\n",
       "      <td>-1.175575</td>\n",
       "      <td>0.647376</td>\n",
       "      <td>-0.221929</td>\n",
       "      <td>0.062723</td>\n",
       "      <td>0.061458</td>\n",
       "      <td>0</td>\n",
       "    </tr>\n",
       "    <tr>\n",
       "      <th>4</th>\n",
       "      <td>-0.073403</td>\n",
       "      <td>-1.158233</td>\n",
       "      <td>0.877737</td>\n",
       "      <td>1.548718</td>\n",
       "      <td>0.403034</td>\n",
       "      <td>-0.407193</td>\n",
       "      <td>0.095921</td>\n",
       "      <td>0.592941</td>\n",
       "      <td>-0.270533</td>\n",
       "      <td>0.817739</td>\n",
       "      <td>...</td>\n",
       "      <td>0.408542</td>\n",
       "      <td>-0.009431</td>\n",
       "      <td>0.798278</td>\n",
       "      <td>-0.137458</td>\n",
       "      <td>0.141267</td>\n",
       "      <td>-0.206010</td>\n",
       "      <td>0.502292</td>\n",
       "      <td>0.219422</td>\n",
       "      <td>0.215153</td>\n",
       "      <td>0</td>\n",
       "    </tr>\n",
       "  </tbody>\n",
       "</table>\n",
       "<p>5 rows × 30 columns</p>\n",
       "</div>"
      ],
      "text/plain": [
       "   Std_Amount        V1        V2        V3        V4        V5        V6  \\\n",
       "0    0.244964 -1.359807 -0.072781  2.536347  1.378155 -0.338321  0.462388   \n",
       "1   -0.342475  1.191857  0.266151  0.166480  0.448154  0.060018 -0.082361   \n",
       "2    1.160686 -1.358354 -1.340163  1.773209  0.379780 -0.503198  1.800499   \n",
       "3    0.140534 -0.966272 -0.185226  1.792993 -0.863291 -0.010309  1.247203   \n",
       "4   -0.073403 -1.158233  0.877737  1.548718  0.403034 -0.407193  0.095921   \n",
       "\n",
       "         V7        V8        V9  ...       V20       V21       V22       V23  \\\n",
       "0  0.239599  0.098698  0.363787  ...  0.251412 -0.018307  0.277838 -0.110474   \n",
       "1 -0.078803  0.085102 -0.255425  ... -0.069083 -0.225775 -0.638672  0.101288   \n",
       "2  0.791461  0.247676 -1.514654  ...  0.524980  0.247998  0.771679  0.909412   \n",
       "3  0.237609  0.377436 -1.387024  ... -0.208038 -0.108300  0.005274 -0.190321   \n",
       "4  0.592941 -0.270533  0.817739  ...  0.408542 -0.009431  0.798278 -0.137458   \n",
       "\n",
       "        V24       V25       V26       V27       V28  Class  \n",
       "0  0.066928  0.128539 -0.189115  0.133558 -0.021053      0  \n",
       "1 -0.339846  0.167170  0.125895 -0.008983  0.014724      0  \n",
       "2 -0.689281 -0.327642 -0.139097 -0.055353 -0.059752      0  \n",
       "3 -1.175575  0.647376 -0.221929  0.062723  0.061458      0  \n",
       "4  0.141267 -0.206010  0.502292  0.219422  0.215153      0  \n",
       "\n",
       "[5 rows x 30 columns]"
      ]
     },
     "execution_count": 17,
     "metadata": {},
     "output_type": "execute_result"
    }
   ],
   "source": [
    "#drop Amount and move Std_Amount at index '0'\n",
    "creditdata = creditdata.drop('Amount',axis=1)\n",
    "\n",
    "Std_Amount = creditdata['Std_Amount']\n",
    "creditdata.drop('Std_Amount', axis=1, inplace=True)\n",
    "creditdata.insert(0, 'Std_Amount', Std_Amount)\n",
    "creditdata.head()"
   ]
  },
  {
   "cell_type": "markdown",
   "metadata": {},
   "source": [
    "### Splitting the data into train,test and validation"
   ]
  },
  {
   "cell_type": "code",
   "execution_count": 18,
   "metadata": {
    "_uuid": "eea30ac82c117bc52729b0b105012810138140d7"
   },
   "outputs": [],
   "source": [
    "X = creditdata.drop('Class', axis=1)\n",
    "Y = creditdata['Class']\n",
    "\n",
    "Xtrain , Xtest , Ytrain , Ytest = train_test_split(X,Y,test_size=0.2, random_state=42)\n",
    "\n",
    "Xtrain_final , Xval , Ytrain_final , Yval = train_test_split(Xtrain,Ytrain,test_size=0.2, random_state=42)\n"
   ]
  },
  {
   "cell_type": "markdown",
   "metadata": {
    "_uuid": "fb7bdeffb64b5e0e6adfd1f604e5918d06d3ce81"
   },
   "source": [
    "##### After splitting,datasets created are:\n",
    "##### a)Train Dataset: Xtrain_final, Ytrain_final\n",
    "##### b)Validation Dataset: Xval, Yval\n",
    "##### c)Test Dataset: Xtest, Ytest\n"
   ]
  },
  {
   "cell_type": "code",
   "execution_count": 19,
   "metadata": {
    "_uuid": "59d177ae8b5f1b1223f7bbe9bdb7e7acd3dd15b1"
   },
   "outputs": [
    {
     "name": "stdout",
     "output_type": "stream",
     "text": [
      "(182276, 29)\n",
      "(182276,)\n",
      "(56962, 29)\n",
      "(56962,)\n",
      "(45569, 29)\n",
      "(45569,)\n"
     ]
    }
   ],
   "source": [
    "#below shows the dataset for train, test and validation after splitting\n",
    "print(Xtrain_final.shape)\n",
    "print(Ytrain_final.shape)\n",
    "print(Xtest.shape)\n",
    "print(Ytest.shape)\n",
    "print(Xval.shape)\n",
    "print(Yval.shape)"
   ]
  },
  {
   "cell_type": "code",
   "execution_count": 20,
   "metadata": {
    "_uuid": "6eca21f4538c2177c3f9d63d0fd2a16a4cb1d450"
   },
   "outputs": [
    {
     "name": "stdout",
     "output_type": "stream",
     "text": [
      "0    181946\n",
      "1       330\n",
      "Name: Class, dtype: int64\n"
     ]
    }
   ],
   "source": [
    "#instances for each class in the train dataset\n",
    "print(Ytrain_final.value_counts())"
   ]
  },
  {
   "cell_type": "markdown",
   "metadata": {},
   "source": [
    "### Using ADASYN for Oversampling on the training set"
   ]
  },
  {
   "cell_type": "markdown",
   "metadata": {},
   "source": [
    "#### To balance the instances per each class,we are performing Oversampling technique"
   ]
  },
  {
   "cell_type": "markdown",
   "metadata": {},
   "source": [
    "#### ADASYN algorithm is to use a density distribution as a criterion to automatically decide the number of synthetic samples that need to be generated for each minority data example.It is based on the idea of adaptively generating minority data samples according to their distributions,more synthetic data is generated for minority class samples that are harder to learn compared to those minority samples that are easier to learn."
   ]
  },
  {
   "cell_type": "code",
   "execution_count": 21,
   "metadata": {
    "_uuid": "241ccb99a6217db12d4d2559facfca900dea11a3"
   },
   "outputs": [
    {
     "name": "stdout",
     "output_type": "stream",
     "text": [
      "Resampled dataset shape Counter({1: 181983, 0: 181946})\n",
      "Shape of X_adasampled: (363929, 29)\n",
      "Shape of Y_adasampled: (363929,)\n"
     ]
    }
   ],
   "source": [
    "ada_sample = ADASYN(sampling_strategy='minority', random_state=42)\n",
    "\n",
    "X_adasampled, Y_adasampled = ada_sample.fit_sample(Xtrain_final, Ytrain_final)\n",
    "print('Resampled dataset shape %s' % Counter(Y_adasampled))\n",
    "print('Shape of X_adasampled: {}'.format(X_adasampled.shape))\n",
    "print('Shape of Y_adasampled: {}'.format(Y_adasampled.shape))"
   ]
  },
  {
   "cell_type": "markdown",
   "metadata": {},
   "source": [
    " #### X_adasampled and Y_adasampled are the balanced train sets resulted after OverSampling."
   ]
  },
  {
   "cell_type": "code",
   "execution_count": 22,
   "metadata": {
    "_uuid": "0f1b4289d662d64308cf7ccc326d6e16d4a647ee"
   },
   "outputs": [
    {
     "name": "stdout",
     "output_type": "stream",
     "text": [
      "   Std_Amount        V1        V2        V3        V4        V5        V6  \\\n",
      "0   -0.350151 -3.017333  3.215950 -2.844590 -1.341856 -0.491730 -1.776197   \n",
      "1   -0.161321  2.099809 -0.890100 -2.817319 -1.208673  0.845043  0.138699   \n",
      "2    0.568609  0.812352 -0.586909 -0.667514  0.962864  0.401248  0.721682   \n",
      "3    1.998245 -2.621263 -4.439432 -2.595440 -1.117193  2.489633 -2.625322   \n",
      "4   -0.273348  2.227359 -1.572316 -0.371772 -1.578679 -1.593467 -0.157863   \n",
      "\n",
      "         V7        V8        V9  ...       V19       V20       V21       V22  \\\n",
      "0  0.071360  1.470371  0.070087  ... -0.174083  0.338884  0.258544  0.843397   \n",
      "1  0.064751 -0.009282 -0.974776  ...  0.211516 -0.196549  0.567082  1.621804   \n",
      "2  0.343162  0.121239  0.059051  ...  0.292052  0.259607  0.084476 -0.144437   \n",
      "3  1.207772 -0.457577 -1.353822  ... -0.269584  2.078601  1.265437  1.872310   \n",
      "4 -1.598295  0.004422 -1.074622  ...  0.064945 -0.362887  0.089499  0.852866   \n",
      "\n",
      "        V23       V24       V25       V26       V27       V28  \n",
      "0  0.086503  0.026228  0.082502  0.112516  0.618475  0.454782  \n",
      "1 -0.242970 -1.581675  0.522156  0.415164 -0.070427 -0.118390  \n",
      "2 -0.487009 -1.312940  0.806243 -0.202556 -0.027304  0.024049  \n",
      "3  1.862566  0.615607 -0.594514 -0.172620  0.199639  0.485647  \n",
      "4  0.098889 -0.305689 -0.178513  0.009100  0.045008 -0.053145  \n",
      "\n",
      "[5 rows x 29 columns]\n",
      "   Class\n",
      "0      0\n",
      "1      0\n",
      "2      0\n",
      "3      0\n",
      "4      0\n"
     ]
    }
   ],
   "source": [
    "df_Xada_train = pd.DataFrame(X_adasampled)\n",
    "df_Xada_train.columns = Xtrain.columns\n",
    "df_Yada_train = pd.DataFrame(Y_adasampled)\n",
    "df_Yada_train = df_Yada_train.rename(columns={0: 'Class'})\n",
    "print(df_Xada_train.head())\n",
    "print(df_Yada_train.head())"
   ]
  },
  {
   "cell_type": "code",
   "execution_count": 23,
   "metadata": {
    "_uuid": "a5d3aa02c156e3590993063fa3221a7222e522d5"
   },
   "outputs": [
    {
     "data": {
      "text/html": [
       "<div>\n",
       "<style scoped>\n",
       "    .dataframe tbody tr th:only-of-type {\n",
       "        vertical-align: middle;\n",
       "    }\n",
       "\n",
       "    .dataframe tbody tr th {\n",
       "        vertical-align: top;\n",
       "    }\n",
       "\n",
       "    .dataframe thead th {\n",
       "        text-align: right;\n",
       "    }\n",
       "</style>\n",
       "<table border=\"1\" class=\"dataframe\">\n",
       "  <thead>\n",
       "    <tr style=\"text-align: right;\">\n",
       "      <th></th>\n",
       "      <th>Std_Amount</th>\n",
       "      <th>V1</th>\n",
       "      <th>V2</th>\n",
       "      <th>V3</th>\n",
       "      <th>V4</th>\n",
       "      <th>V5</th>\n",
       "      <th>V6</th>\n",
       "      <th>V7</th>\n",
       "      <th>V8</th>\n",
       "      <th>V9</th>\n",
       "      <th>...</th>\n",
       "      <th>V20</th>\n",
       "      <th>V21</th>\n",
       "      <th>V22</th>\n",
       "      <th>V23</th>\n",
       "      <th>V24</th>\n",
       "      <th>V25</th>\n",
       "      <th>V26</th>\n",
       "      <th>V27</th>\n",
       "      <th>V28</th>\n",
       "      <th>Class</th>\n",
       "    </tr>\n",
       "  </thead>\n",
       "  <tbody>\n",
       "    <tr>\n",
       "      <th>0</th>\n",
       "      <td>-0.350151</td>\n",
       "      <td>-3.017333</td>\n",
       "      <td>3.215950</td>\n",
       "      <td>-2.844590</td>\n",
       "      <td>-1.341856</td>\n",
       "      <td>-0.491730</td>\n",
       "      <td>-1.776197</td>\n",
       "      <td>0.071360</td>\n",
       "      <td>1.470371</td>\n",
       "      <td>0.070087</td>\n",
       "      <td>...</td>\n",
       "      <td>0.338884</td>\n",
       "      <td>0.258544</td>\n",
       "      <td>0.843397</td>\n",
       "      <td>0.086503</td>\n",
       "      <td>0.026228</td>\n",
       "      <td>0.082502</td>\n",
       "      <td>0.112516</td>\n",
       "      <td>0.618475</td>\n",
       "      <td>0.454782</td>\n",
       "      <td>0</td>\n",
       "    </tr>\n",
       "    <tr>\n",
       "      <th>1</th>\n",
       "      <td>-0.161321</td>\n",
       "      <td>2.099809</td>\n",
       "      <td>-0.890100</td>\n",
       "      <td>-2.817319</td>\n",
       "      <td>-1.208673</td>\n",
       "      <td>0.845043</td>\n",
       "      <td>0.138699</td>\n",
       "      <td>0.064751</td>\n",
       "      <td>-0.009282</td>\n",
       "      <td>-0.974776</td>\n",
       "      <td>...</td>\n",
       "      <td>-0.196549</td>\n",
       "      <td>0.567082</td>\n",
       "      <td>1.621804</td>\n",
       "      <td>-0.242970</td>\n",
       "      <td>-1.581675</td>\n",
       "      <td>0.522156</td>\n",
       "      <td>0.415164</td>\n",
       "      <td>-0.070427</td>\n",
       "      <td>-0.118390</td>\n",
       "      <td>0</td>\n",
       "    </tr>\n",
       "    <tr>\n",
       "      <th>2</th>\n",
       "      <td>0.568609</td>\n",
       "      <td>0.812352</td>\n",
       "      <td>-0.586909</td>\n",
       "      <td>-0.667514</td>\n",
       "      <td>0.962864</td>\n",
       "      <td>0.401248</td>\n",
       "      <td>0.721682</td>\n",
       "      <td>0.343162</td>\n",
       "      <td>0.121239</td>\n",
       "      <td>0.059051</td>\n",
       "      <td>...</td>\n",
       "      <td>0.259607</td>\n",
       "      <td>0.084476</td>\n",
       "      <td>-0.144437</td>\n",
       "      <td>-0.487009</td>\n",
       "      <td>-1.312940</td>\n",
       "      <td>0.806243</td>\n",
       "      <td>-0.202556</td>\n",
       "      <td>-0.027304</td>\n",
       "      <td>0.024049</td>\n",
       "      <td>0</td>\n",
       "    </tr>\n",
       "    <tr>\n",
       "      <th>3</th>\n",
       "      <td>1.998245</td>\n",
       "      <td>-2.621263</td>\n",
       "      <td>-4.439432</td>\n",
       "      <td>-2.595440</td>\n",
       "      <td>-1.117193</td>\n",
       "      <td>2.489633</td>\n",
       "      <td>-2.625322</td>\n",
       "      <td>1.207772</td>\n",
       "      <td>-0.457577</td>\n",
       "      <td>-1.353822</td>\n",
       "      <td>...</td>\n",
       "      <td>2.078601</td>\n",
       "      <td>1.265437</td>\n",
       "      <td>1.872310</td>\n",
       "      <td>1.862566</td>\n",
       "      <td>0.615607</td>\n",
       "      <td>-0.594514</td>\n",
       "      <td>-0.172620</td>\n",
       "      <td>0.199639</td>\n",
       "      <td>0.485647</td>\n",
       "      <td>0</td>\n",
       "    </tr>\n",
       "    <tr>\n",
       "      <th>4</th>\n",
       "      <td>-0.273348</td>\n",
       "      <td>2.227359</td>\n",
       "      <td>-1.572316</td>\n",
       "      <td>-0.371772</td>\n",
       "      <td>-1.578679</td>\n",
       "      <td>-1.593467</td>\n",
       "      <td>-0.157863</td>\n",
       "      <td>-1.598295</td>\n",
       "      <td>0.004422</td>\n",
       "      <td>-1.074622</td>\n",
       "      <td>...</td>\n",
       "      <td>-0.362887</td>\n",
       "      <td>0.089499</td>\n",
       "      <td>0.852866</td>\n",
       "      <td>0.098889</td>\n",
       "      <td>-0.305689</td>\n",
       "      <td>-0.178513</td>\n",
       "      <td>0.009100</td>\n",
       "      <td>0.045008</td>\n",
       "      <td>-0.053145</td>\n",
       "      <td>0</td>\n",
       "    </tr>\n",
       "  </tbody>\n",
       "</table>\n",
       "<p>5 rows × 30 columns</p>\n",
       "</div>"
      ],
      "text/plain": [
       "   Std_Amount        V1        V2        V3        V4        V5        V6  \\\n",
       "0   -0.350151 -3.017333  3.215950 -2.844590 -1.341856 -0.491730 -1.776197   \n",
       "1   -0.161321  2.099809 -0.890100 -2.817319 -1.208673  0.845043  0.138699   \n",
       "2    0.568609  0.812352 -0.586909 -0.667514  0.962864  0.401248  0.721682   \n",
       "3    1.998245 -2.621263 -4.439432 -2.595440 -1.117193  2.489633 -2.625322   \n",
       "4   -0.273348  2.227359 -1.572316 -0.371772 -1.578679 -1.593467 -0.157863   \n",
       "\n",
       "         V7        V8        V9  ...       V20       V21       V22       V23  \\\n",
       "0  0.071360  1.470371  0.070087  ...  0.338884  0.258544  0.843397  0.086503   \n",
       "1  0.064751 -0.009282 -0.974776  ... -0.196549  0.567082  1.621804 -0.242970   \n",
       "2  0.343162  0.121239  0.059051  ...  0.259607  0.084476 -0.144437 -0.487009   \n",
       "3  1.207772 -0.457577 -1.353822  ...  2.078601  1.265437  1.872310  1.862566   \n",
       "4 -1.598295  0.004422 -1.074622  ... -0.362887  0.089499  0.852866  0.098889   \n",
       "\n",
       "        V24       V25       V26       V27       V28  Class  \n",
       "0  0.026228  0.082502  0.112516  0.618475  0.454782      0  \n",
       "1 -1.581675  0.522156  0.415164 -0.070427 -0.118390      0  \n",
       "2 -1.312940  0.806243 -0.202556 -0.027304  0.024049      0  \n",
       "3  0.615607 -0.594514 -0.172620  0.199639  0.485647      0  \n",
       "4 -0.305689 -0.178513  0.009100  0.045008 -0.053145      0  \n",
       "\n",
       "[5 rows x 30 columns]"
      ]
     },
     "execution_count": 23,
     "metadata": {},
     "output_type": "execute_result"
    }
   ],
   "source": [
    "#single dataframe after merging in order to visualize a correlation matrix\n",
    "df_new= pd.merge(df_Xada_train, df_Yada_train, how='inner', left_index=True, right_index=True)\n",
    "df_new.head()"
   ]
  },
  {
   "cell_type": "code",
   "execution_count": 24,
   "metadata": {
    "_uuid": "cfea01724e1dd53f693a5144d66e664059d43cbc"
   },
   "outputs": [
    {
     "data": {
      "text/plain": [
       "<seaborn.axisgrid.FacetGrid at 0x23450557cc8>"
      ]
     },
     "execution_count": 24,
     "metadata": {},
     "output_type": "execute_result"
    },
    {
     "data": {
      "image/png": "[encoded data removed]",
      "text/plain": [
       "<Figure size 402.375x360 with 1 Axes>"
      ]
     },
     "metadata": {
      "needs_background": "light"
     },
     "output_type": "display_data"
    }
   ],
   "source": [
    "#visualizing balanced train dataset\n",
    "X_df= pd.DataFrame(X_adasampled)\n",
    "Y_df= pd.DataFrame(Y_adasampled)\n",
    "Y_df=Y_df.rename(columns={0: 'Class'})\n",
    "train_2d= pd.DataFrame(pca.fit_transform(X_df.iloc[:,0:29]))\n",
    "train_2d= pd.concat([train_2d, Y_df], axis=1)\n",
    "train_2d.columns= ['x', 'y', 'Class']\n",
    "sns.lmplot(x='x', y='y', data=train_2d, fit_reg=False, hue='Class')"
   ]
  },
  {
   "cell_type": "markdown",
   "metadata": {},
   "source": [
    "### Building Deep Neural Network model\n",
    "#### A deep neural network is an artificial neural network with multiple layers between the input and output layers.\n",
    "#### The neural network needs to learn all the time to solve tasks in a more qualified manner or even to use various methods to provide a better result. When it gets new information in the system, it learns how to act accordingly to a new situation.Learning becomes deeper when tasks you solve get harder. Deep neural network represents the type of machine learning when the system uses many layers of nodes to derive high-level functions from input information. It means transforming the data into a more creative and abstract component.Since it is important for credit card companies to be able to recognize fraudulent credit card transactions so that customers are not charged for items that they did not purchase.Therefore, we used DNN to solve this problem.\n",
    "\n"
   ]
  },
  {
   "cell_type": "code",
   "execution_count": 25,
   "metadata": {},
   "outputs": [],
   "source": [
    "def create_model(activation='relu', optimizer=Adam, learning_rate=0.5, dropout=0.25):\n",
    "    model = Sequential()\n",
    "    # Layers\n",
    "    model.add(Dense(16, input_dim=X_adasampled.shape[1],\n",
    "                    activation=activation,\n",
    "                    kernel_initializer='uniform'))\n",
    "    model.add(Dense(units=18, kernel_initializer='uniform', activation=activation))\n",
    "    model.add(Dropout(dropout))\n",
    "    model.add(Dense(units=20, kernel_initializer='uniform', activation=activation))\n",
    "    model.add(Dense(units=24, kernel_initializer='uniform', activation=activation))\n",
    "    # Last layer\n",
    "    model.add(Dense(1, activation='sigmoid',\n",
    "                    kernel_initializer='uniform'))\n",
    "    \n",
    "    model.compile(loss='binary_crossentropy',\n",
    "                  optimizer=optimizer(lr=learning_rate),\n",
    "                  metrics=['accuracy'])\n",
    "    \n",
    "    return model"
   ]
  },
  {
   "cell_type": "code",
   "execution_count": 26,
   "metadata": {},
   "outputs": [
    {
     "name": "stdout",
     "output_type": "stream",
     "text": [
      "Model: \"sequential_1\"\n",
      "_________________________________________________________________\n",
      "Layer (type)                 Output Shape              Param #   \n",
      "=================================================================\n",
      "dense_1 (Dense)              (None, 16)                480       \n",
      "_________________________________________________________________\n",
      "dense_2 (Dense)              (None, 18)                306       \n",
      "_________________________________________________________________\n",
      "dropout_1 (Dropout)          (None, 18)                0         \n",
      "_________________________________________________________________\n",
      "dense_3 (Dense)              (None, 20)                380       \n",
      "_________________________________________________________________\n",
      "dense_4 (Dense)              (None, 24)                504       \n",
      "_________________________________________________________________\n",
      "dense_5 (Dense)              (None, 1)                 25        \n",
      "=================================================================\n",
      "Total params: 1,695\n",
      "Trainable params: 1,695\n",
      "Non-trainable params: 0\n",
      "_________________________________________________________________\n"
     ]
    }
   ],
   "source": [
    "dnn_model = create_model()\n",
    "dnn_model.summary()"
   ]
  },
  {
   "cell_type": "code",
   "execution_count": 27,
   "metadata": {},
   "outputs": [
    {
     "name": "stdout",
     "output_type": "stream",
     "text": [
      "Train on 363929 samples, validate on 45569 samples\n",
      "Epoch 1/10\n",
      "363929/363929 [==============================] - 37s 100us/step - loss: 0.0483 - accuracy: 0.9856 - val_loss: 0.0459 - val_accuracy: 0.9881\n",
      "Epoch 2/10\n",
      "363929/363929 [==============================] - 33s 92us/step - loss: 0.0192 - accuracy: 0.9955 - val_loss: 0.0221 - val_accuracy: 0.9952\n",
      "Epoch 3/10\n",
      "363929/363929 [==============================] - 33s 92us/step - loss: 0.0146 - accuracy: 0.9967 - val_loss: 0.0256 - val_accuracy: 0.9959\n",
      "Epoch 4/10\n",
      "363929/363929 [==============================] - 33s 91us/step - loss: 0.0131 - accuracy: 0.9971 - val_loss: 0.0203 - val_accuracy: 0.9969\n",
      "Epoch 5/10\n",
      "363929/363929 [==============================] - 33s 92us/step - loss: 0.0108 - accuracy: 0.9976 - val_loss: 0.0265 - val_accuracy: 0.9967\n",
      "Epoch 6/10\n",
      "363929/363929 [==============================] - 33s 91us/step - loss: 0.0097 - accuracy: 0.9980 - val_loss: 0.0275 - val_accuracy: 0.9964\n",
      "Epoch 7/10\n",
      "363929/363929 [==============================] - 34s 94us/step - loss: 0.0091 - accuracy: 0.9981 - val_loss: 0.0261 - val_accuracy: 0.9972\n",
      "Epoch 8/10\n",
      "363929/363929 [==============================] - 34s 93us/step - loss: 0.0086 - accuracy: 0.9981 - val_loss: 0.0318 - val_accuracy: 0.9952\n",
      "Epoch 9/10\n",
      "363929/363929 [==============================] - 33s 90us/step - loss: 0.0081 - accuracy: 0.9983 - val_loss: 0.0204 - val_accuracy: 0.9973\n",
      "Epoch 10/10\n",
      "363929/363929 [==============================] - 33s 92us/step - loss: 0.0075 - accuracy: 0.9985 - val_loss: 0.0259 - val_accuracy: 0.9969\n"
     ]
    }
   ],
   "source": [
    "dnn_model.compile(optimizer='adam', loss='binary_crossentropy', metrics=['accuracy'])\n",
    "history = dnn_model.fit(X_adasampled, Y_adasampled, \n",
    "                        validation_data=(Xval, Yval),\n",
    "                        batch_size=15,\n",
    "                        epochs=10)"
   ]
  },
  {
   "cell_type": "markdown",
   "metadata": {},
   "source": [
    "### Evaluation on the Validation set\n"
   ]
  },
  {
   "cell_type": "code",
   "execution_count": 28,
   "metadata": {},
   "outputs": [
    {
     "name": "stdout",
     "output_type": "stream",
     "text": [
      "45569/45569 [==============================] - 2s 36us/step\n",
      "\n",
      "And the Score is  99.69277381896973 %\n"
     ]
    }
   ],
   "source": [
    "score = dnn_model.evaluate(Xval, Yval, batch_size=15)\n",
    "print('\\nAnd the Score is ', score[1] * 100, '%')"
   ]
  },
  {
   "cell_type": "code",
   "execution_count": 29,
   "metadata": {},
   "outputs": [],
   "source": [
    "train_acc = history.history['accuracy']\n",
    "valid_acc = history.history['val_accuracy']"
   ]
  },
  {
   "cell_type": "code",
   "execution_count": 30,
   "metadata": {},
   "outputs": [
    {
     "data": {
      "image/png": "[encoded data removed]",
      "text/plain": [
       "<Figure size 432x288 with 1 Axes>"
      ]
     },
     "metadata": {
      "needs_background": "light"
     },
     "output_type": "display_data"
    }
   ],
   "source": [
    "epochs = range(1,11)\n",
    "plt.plot(epochs,train_acc,'g',label = 'Training accuracy')\n",
    "plt.plot(epochs,valid_acc,'b',label = 'Validation accuracy')\n",
    "plt.title('Training and validation accuracy')\n",
    "plt.xlabel('Epochs')\n",
    "plt.ylabel('Accuracy')\n",
    "plt.legend()\n",
    "plt.show()"
   ]
  },
  {
   "cell_type": "markdown",
   "metadata": {},
   "source": [
    "### Evaluation on the Test set"
   ]
  },
  {
   "cell_type": "code",
   "execution_count": 31,
   "metadata": {},
   "outputs": [
    {
     "name": "stdout",
     "output_type": "stream",
     "text": [
      "56962/56962 [==============================] - 1s 17us/step\n",
      "Accuracy: 99.71%\n"
     ]
    }
   ],
   "source": [
    "test_score = dnn_model.evaluate(Xtest,Ytest)\n",
    "print (\"Accuracy: %.2f%%\" %(test_score[1]*100))"
   ]
  },
  {
   "cell_type": "markdown",
   "metadata": {},
   "source": [
    "### Roc curve on validation set"
   ]
  },
  {
   "cell_type": "code",
   "execution_count": 32,
   "metadata": {},
   "outputs": [
    {
     "name": "stdout",
     "output_type": "stream",
     "text": [
      "roc-auc is 0.966\n"
     ]
    },
    {
     "data": {
      "image/png": "[encoded data removed]",
      "text/plain": [
       "<Figure size 432x288 with 1 Axes>"
      ]
     },
     "metadata": {
      "needs_background": "light"
     },
     "output_type": "display_data"
    }
   ],
   "source": [
    "y_pred= dnn_model.predict(Xval)\n",
    "\n",
    "# ROC Curve\n",
    "fpr, tpr, thresholds = roc_curve(Yval, y_pred)\n",
    "\n",
    "# AUC\n",
    "from sklearn.metrics import auc\n",
    "auc_keras = auc(fpr, tpr)\n",
    "\n",
    "print('roc-auc is {:.3f}'.format(roc_auc_score(Yval, y_pred)))\n",
    "\n",
    "roc_auc = auc(fpr, tpr)\n",
    "\n",
    "plt.title('Receiver Operating Characteristic before Hyperparameter tuning(Cradit card fraud detection)')\n",
    "plt.plot(fpr, tpr, label='AUC = %0.4f'% roc_auc)\n",
    "plt.legend(loc='lower right')\n",
    "plt.plot([0,1],[0,1],'r--')\n",
    "plt.xlim([-0.001, 1])\n",
    "plt.ylim([0, 1.001])\n",
    "plt.ylabel('Positive Rate:True')\n",
    "plt.xlabel('Positive Rate:False')\n",
    "plt.show();"
   ]
  },
  {
   "cell_type": "markdown",
   "metadata": {},
   "source": [
    "### Roc curve on test set"
   ]
  },
  {
   "cell_type": "code",
   "execution_count": 33,
   "metadata": {},
   "outputs": [
    {
     "name": "stdout",
     "output_type": "stream",
     "text": [
      "roc-auc is 0.971\n"
     ]
    },
    {
     "data": {
      "image/png": "[encoded data removed]",
      "text/plain": [
       "<Figure size 432x288 with 1 Axes>"
      ]
     },
     "metadata": {
      "needs_background": "light"
     },
     "output_type": "display_data"
    }
   ],
   "source": [
    "y_pred= dnn_model.predict(Xtest)\n",
    "\n",
    "# ROC Curve\n",
    "fpr, tpr, thresholds = roc_curve(Ytest, y_pred)\n",
    "\n",
    "# AUC\n",
    "from sklearn.metrics import auc\n",
    "auc_keras = auc(fpr, tpr)\n",
    "\n",
    "print('roc-auc is {:.3f}'.format(roc_auc_score(Ytest, y_pred)))\n",
    "\n",
    "roc_auc = auc(fpr, tpr)\n",
    "\n",
    "plt.title('Receiver Operating Characteristic before Hyperparameter tuning(Cradit card fraud detection)')\n",
    "plt.plot(fpr, tpr, label='AUC = %0.4f'% roc_auc)\n",
    "plt.legend(loc='lower right')\n",
    "plt.plot([0,1],[0,1],'r--')\n",
    "plt.xlim([-0.001, 1])\n",
    "plt.ylim([0, 1.001])\n",
    "plt.ylabel('Positive Rate:True')\n",
    "plt.xlabel('Positive Rate:False')\n",
    "plt.show();"
   ]
  },
  {
   "cell_type": "code",
   "execution_count": 34,
   "metadata": {},
   "outputs": [],
   "source": [
    "#function for confusion matrix\n",
    "def conf_matrix(values_predicted):\n",
    "    Predictions_matrix = confusion_matrix(Ytest.values, values_predicted, labels = [0, 1])\n",
    "    class_feat=creditdata['Class'].copy()\n",
    "    class_feat= class_feat.unique()\n",
    "    fig, ax = plt.subplots(figsize=(5,5))\n",
    "    sns.heatmap(Predictions_matrix, annot=True, fmt='d', xticklabels=class_feat, yticklabels=class_feat)\n",
    "    plt.ylabel('Actual Class')\n",
    "    plt.xlabel('Predicted Class')\n",
    "    plt.show()"
   ]
  },
  {
   "cell_type": "code",
   "execution_count": 35,
   "metadata": {},
   "outputs": [
    {
     "name": "stdout",
     "output_type": "stream",
     "text": [
      "56962/56962 [==============================] - 1s 17us/step\n",
      "Accuracy MLP before hyper parameter tuning: 0.9971384406089783\n",
      "56962/56962 [==============================] - 1s 18us/step\n",
      "Loss value before hyper parameter tuning: 0.025017799936921544\n",
      "Recall_score before hyper parameter tuning: 0.8571428571428571\n",
      "Precision_score before hyper parameter tuning: 0.3605150214592275\n",
      "F-score before hyper parameter tuning: 0.5075528700906344\n"
     ]
    },
    {
     "data": {
      "image/png": "[encoded data removed]",
      "text/plain": [
       "<Figure size 360x360 with 2 Axes>"
      ]
     },
     "metadata": {
      "needs_background": "light"
     },
     "output_type": "display_data"
    }
   ],
   "source": [
    "print('Accuracy MLP before hyper parameter tuning: '+ str(dnn_model.evaluate(Xtest.values,Ytest.values)[1]))\n",
    "print('Loss value before hyper parameter tuning: '+ str(dnn_model.evaluate(Xtest.values,Ytest.values)[0]))\n",
    "\n",
    "Y_pred = dnn_model.predict_classes(Xtest.values, batch_size=200, verbose=0)\n",
    "print('Recall_score before hyper parameter tuning: ' + str(recall_score(Ytest.values,Y_pred)))\n",
    "print('Precision_score before hyper parameter tuning: ' + str(precision_score(Ytest.values, Y_pred)))\n",
    "print('F-score before hyper parameter tuning: ' + str(f1_score(Ytest.values,Y_pred)))\n",
    "conf_matrix(Y_pred)"
   ]
  },
  {
   "cell_type": "markdown",
   "metadata": {},
   "source": [
    "# DNN model Hyperparameter tuning\n"
   ]
  },
  {
   "cell_type": "markdown",
   "metadata": {},
   "source": [
    "### Using grid search to get the best parameters"
   ]
  },
  {
   "cell_type": "code",
   "execution_count": 36,
   "metadata": {},
   "outputs": [
    {
     "data": {
      "text/plain": [
       "{'activation': ['relu', 'elu'],\n",
       " 'optimizer': [keras.optimizers.Adam, keras.optimizers.Nadam],\n",
       " 'epochs': [5, 8, 10],\n",
       " 'batch_size': [15, 20]}"
      ]
     },
     "execution_count": 36,
     "metadata": {},
     "output_type": "execute_result"
    }
   ],
   "source": [
    "# define the grid search parameters\n",
    "optimizer = [Adam, Nadam]\n",
    "activation = ['relu', 'elu']\n",
    "epochs = [5, 8, 10]\n",
    "batch_size = [15, 20]\n",
    "\n",
    "# create model\n",
    "kmodel = KerasClassifier(build_fn=create_model)\n",
    "param_grid = dict( \n",
    "    activation=activation, \n",
    "    optimizer=optimizer,\n",
    "    epochs = epochs,\n",
    "    batch_size = batch_size\n",
    ")\n",
    "\n",
    "param_grid"
   ]
  },
  {
   "cell_type": "code",
   "execution_count": 37,
   "metadata": {},
   "outputs": [
    {
     "name": "stdout",
     "output_type": "stream",
     "text": [
      "Train on 363929 samples, validate on 45569 samples\n",
      "Epoch 1/10\n",
      "363929/363929 [==============================] - 27s 73us/step - loss: 246.0473 - accuracy: 0.4983 - val_loss: 2.2209 - val_accuracy: 0.0014\n",
      "Epoch 2/10\n",
      "363929/363929 [==============================] - 26s 72us/step - loss: 0.8849 - accuracy: 0.5016 - val_loss: 0.2428 - val_accuracy: 0.9986\n",
      "Epoch 3/10\n",
      "363929/363929 [==============================] - 27s 75us/step - loss: 0.9064 - accuracy: 0.4996 - val_loss: 0.4976 - val_accuracy: 0.9986\n",
      "Epoch 4/10\n",
      "363929/363929 [==============================] - 26s 73us/step - loss: 0.9073 - accuracy: 0.5006 - val_loss: 0.8301 - val_accuracy: 0.0014\n",
      "Epoch 5/10\n",
      "363929/363929 [==============================] - 27s 75us/step - loss: 0.9031 - accuracy: 0.5009 - val_loss: 0.4013 - val_accuracy: 0.9986\n",
      "Epoch 6/10\n",
      "363929/363929 [==============================] - 27s 74us/step - loss: 0.9107 - accuracy: 0.5007 - val_loss: 0.1391 - val_accuracy: 0.9986\n",
      "Epoch 7/10\n",
      "363929/363929 [==============================] - 27s 73us/step - loss: 5302.8232 - accuracy: 0.4981 - val_loss: 0.3051 - val_accuracy: 0.9986\n",
      "Epoch 8/10\n",
      "363929/363929 [==============================] - 27s 76us/step - loss: 0.8570 - accuracy: 0.5003 - val_loss: 1.4541 - val_accuracy: 0.0014\n",
      "Epoch 9/10\n",
      "363929/363929 [==============================] - 27s 73us/step - loss: 0.8933 - accuracy: 0.5006 - val_loss: 1.2613 - val_accuracy: 0.0014\n",
      "Epoch 10/10\n",
      "363929/363929 [==============================] - 27s 73us/step - loss: 2270.6294 - accuracy: 0.4993 - val_loss: 0.4252 - val_accuracy: 0.9986\n"
     ]
    }
   ],
   "source": [
    "grid = GridSearchCV(estimator=kmodel, param_grid=param_grid, n_jobs=-1, cv=3)\n",
    "grid_result = grid.fit(X_adasampled, Y_adasampled, validation_data=(Xval, Yval))"
   ]
  },
  {
   "cell_type": "code",
   "execution_count": 38,
   "metadata": {},
   "outputs": [
    {
     "name": "stdout",
     "output_type": "stream",
     "text": [
      "Best: 0.501184 using {'activation': 'elu', 'batch_size': 20, 'epochs': 10, 'optimizer': <class 'keras.optimizers.Adam'>}\n",
      "{'activation': 'elu', 'batch_size': 20, 'epochs': 10, 'optimizer': <class 'keras.optimizers.Adam'>}\n"
     ]
    }
   ],
   "source": [
    "# best parameters\n",
    "print(\"Best: %f using %s\" % (grid_result.best_score_, grid_result.best_params_))\n",
    "means = grid_result.cv_results_['mean_test_score']\n",
    "stds = grid_result.cv_results_['std_test_score']\n",
    "params = grid_result.cv_results_['params']\n",
    "\n",
    "print(grid_result.best_params_)"
   ]
  },
  {
   "cell_type": "code",
   "execution_count": 39,
   "metadata": {},
   "outputs": [
    {
     "name": "stdout",
     "output_type": "stream",
     "text": [
      "Train on 363929 samples, validate on 45569 samples\n",
      "Epoch 1/10\n",
      "363929/363929 [==============================] - 28s 76us/step - loss: 0.0891 - accuracy: 0.9701 - val_loss: 0.0660 - val_accuracy: 0.9806\n",
      "Epoch 2/10\n",
      "363929/363929 [==============================] - 27s 73us/step - loss: 0.0359 - accuracy: 0.9907 - val_loss: 0.0523 - val_accuracy: 0.9864\n",
      "Epoch 3/10\n",
      "363929/363929 [==============================] - 27s 73us/step - loss: 0.0279 - accuracy: 0.9931 - val_loss: 0.0312 - val_accuracy: 0.9928\n",
      "Epoch 4/10\n",
      "363929/363929 [==============================] - 27s 74us/step - loss: 0.0229 - accuracy: 0.9946 - val_loss: 0.0384 - val_accuracy: 0.9909\n",
      "Epoch 5/10\n",
      "363929/363929 [==============================] - 27s 74us/step - loss: 0.0165 - accuracy: 0.9961 - val_loss: 0.0321 - val_accuracy: 0.9935\n",
      "Epoch 6/10\n",
      "363929/363929 [==============================] - 31s 86us/step - loss: 0.0129 - accuracy: 0.9971 - val_loss: 0.0210 - val_accuracy: 0.9958\n",
      "Epoch 7/10\n",
      "363929/363929 [==============================] - 30s 83us/step - loss: 0.0110 - accuracy: 0.9975 - val_loss: 0.0243 - val_accuracy: 0.9952\n",
      "Epoch 8/10\n",
      "363929/363929 [==============================] - 30s 83us/step - loss: 0.0099 - accuracy: 0.9978 - val_loss: 0.0204 - val_accuracy: 0.9966\n",
      "Epoch 9/10\n",
      "363929/363929 [==============================] - 30s 82us/step - loss: 0.0090 - accuracy: 0.9981 - val_loss: 0.0146 - val_accuracy: 0.9976\n",
      "Epoch 10/10\n",
      "363929/363929 [==============================] - 30s 83us/step - loss: 0.0082 - accuracy: 0.9982 - val_loss: 0.0174 - val_accuracy: 0.9971\n"
     ]
    }
   ],
   "source": [
    "best_params = grid_result.best_params_\n",
    "activation = best_params.get('activation')\n",
    "optimizer = best_params.get('optimizer')\n",
    "epochs = best_params.get('epochs')\n",
    "batch_size = best_params.get('batch_size')\n",
    "tuned_model = create_model(activation=activation, optimizer=optimizer)\n",
    "\n",
    "tuned_model.compile(optimizer='adam', loss='binary_crossentropy', metrics=['accuracy'])\n",
    "history = tuned_model.fit(X_adasampled, Y_adasampled, \n",
    "                        validation_data=(Xval, Yval),\n",
    "                        batch_size=batch_size,\n",
    "                        epochs=epochs)\n",
    "\n"
   ]
  },
  {
   "cell_type": "code",
   "execution_count": 40,
   "metadata": {
    "_uuid": "c95b4754a12a5139f483f759d22850eb42dfa9b5",
    "scrolled": true
   },
   "outputs": [
    {
     "data": {
      "image/png": "[encoded data removed]",
      "text/plain": [
       "<Figure size 432x288 with 1 Axes>"
      ]
     },
     "metadata": {
      "needs_background": "light"
     },
     "output_type": "display_data"
    }
   ],
   "source": [
    "# Plotting Training accuracy vs Validation Accuracy\n",
    "plt.plot(history.history['accuracy'])\n",
    "plt.plot(history.history['val_accuracy'])\n",
    "plt.title('model accuracy')\n",
    "plt.ylabel('accuracy')\n",
    "plt.xlabel('epoch')\n",
    "plt.legend(['train', 'val'], loc='upper left')\n",
    "plt.show()"
   ]
  },
  {
   "cell_type": "markdown",
   "metadata": {},
   "source": [
    "### Evaluation on the Validation set"
   ]
  },
  {
   "cell_type": "code",
   "execution_count": 41,
   "metadata": {},
   "outputs": [
    {
     "name": "stdout",
     "output_type": "stream",
     "text": [
      "45569/45569 [==============================] - 1s 20us/step\n",
      "Accuracy: 99.71%\n"
     ]
    }
   ],
   "source": [
    "valid_score = tuned_model.evaluate(Xval,Yval)\n",
    "print (\"Accuracy: %.2f%%\" %(valid_score[1]*100))"
   ]
  },
  {
   "cell_type": "markdown",
   "metadata": {},
   "source": [
    "### Evaluating tuned model on Test set"
   ]
  },
  {
   "cell_type": "code",
   "execution_count": 42,
   "metadata": {
    "scrolled": true
   },
   "outputs": [
    {
     "name": "stdout",
     "output_type": "stream",
     "text": [
      "56962/56962 [==============================] - 1s 19us/step\n",
      "Accuracy: 99.69%\n"
     ]
    }
   ],
   "source": [
    "test_score = tuned_model.evaluate(Xtest,Ytest)\n",
    "print (\"Accuracy: %.2f%%\" %(test_score[1]*100))"
   ]
  },
  {
   "cell_type": "markdown",
   "metadata": {},
   "source": [
    "### Roc curve on Validation set"
   ]
  },
  {
   "cell_type": "code",
   "execution_count": 43,
   "metadata": {},
   "outputs": [
    {
     "name": "stdout",
     "output_type": "stream",
     "text": [
      "roc-auc is 0.945\n"
     ]
    },
    {
     "data": {
      "image/png": "[encoded data removed]",
      "text/plain": [
       "<Figure size 432x288 with 1 Axes>"
      ]
     },
     "metadata": {
      "needs_background": "light"
     },
     "output_type": "display_data"
    }
   ],
   "source": [
    "y_pred= tuned_model.predict(Xval)\n",
    "\n",
    "# ROC Curve\n",
    "fpr, tpr, thresholds = roc_curve(Yval, y_pred)\n",
    "\n",
    "# AUC\n",
    "auc_keras = auc(fpr, tpr)\n",
    "\n",
    "print('roc-auc is {:.3f}'.format(roc_auc_score(Yval, y_pred)))\n",
    "\n",
    "roc_auc = auc(fpr, tpr)\n",
    "\n",
    "plt.title('Receiver Operating Characteristic for HyperParameter-tuned model(Credit card fraud detection)')\n",
    "plt.plot(fpr, tpr, label='AUC = %0.4f'% roc_auc)\n",
    "plt.legend(loc='lower right')\n",
    "plt.plot([0,1],[0,1],'r--')\n",
    "plt.xlim([-0.001, 1])\n",
    "plt.ylim([0, 1.001])\n",
    "plt.ylabel('Positive Rate:True')\n",
    "plt.xlabel('Positive Rate:False')\n",
    "plt.show();"
   ]
  },
  {
   "cell_type": "markdown",
   "metadata": {},
   "source": [
    "### Roc curve on Test set"
   ]
  },
  {
   "cell_type": "code",
   "execution_count": 44,
   "metadata": {},
   "outputs": [
    {
     "name": "stdout",
     "output_type": "stream",
     "text": [
      "roc-auc is 0.968\n"
     ]
    },
    {
     "data": {
      "image/png": "[encoded data removed]",
      "text/plain": [
       "<Figure size 432x288 with 1 Axes>"
      ]
     },
     "metadata": {
      "needs_background": "light"
     },
     "output_type": "display_data"
    }
   ],
   "source": [
    "y_pred= tuned_model.predict(Xtest)\n",
    "\n",
    "# ROC Curve\n",
    "fpr, tpr, thresholds = roc_curve(Ytest, y_pred)\n",
    "\n",
    "# AUC\n",
    "auc_keras = auc(fpr, tpr)\n",
    "\n",
    "print('roc-auc is {:.3f}'.format(roc_auc_score(Ytest, y_pred)))\n",
    "\n",
    "roc_auc = auc(fpr, tpr)\n",
    "\n",
    "plt.title('Receiver Operating Characteristic for HyperParameter-tuned model(Credit card fraud detection)')\n",
    "plt.plot(fpr, tpr, label='AUC = %0.4f'% roc_auc)\n",
    "plt.legend(loc='lower right')\n",
    "plt.plot([0,1],[0,1],'r--')\n",
    "plt.xlim([-0.001, 1])\n",
    "plt.ylim([0, 1.001])\n",
    "plt.ylabel('Positive Rate:True')\n",
    "plt.xlabel('Positive Rate:False')\n",
    "plt.show();"
   ]
  },
  {
   "cell_type": "code",
   "execution_count": 45,
   "metadata": {
    "_uuid": "71e3224988435a3adc304c032a3cccdb61ae6629"
   },
   "outputs": [
    {
     "name": "stdout",
     "output_type": "stream",
     "text": [
      "56962/56962 [==============================] - 1s 16us/step\n",
      "Accuracy MLP: 0.9968926906585693\n",
      "56962/56962 [==============================] - 1s 17us/step\n",
      "Loss value: 0.017440572462879403\n",
      "Recall_score: 0.8571428571428571\n",
      "Precision_score: 0.340080971659919\n",
      "F-score: 0.4869565217391304\n"
     ]
    },
    {
     "data": {
      "image/png": "[encoded data removed]",
      "text/plain": [
       "<Figure size 360x360 with 2 Axes>"
      ]
     },
     "metadata": {
      "needs_background": "light"
     },
     "output_type": "display_data"
    }
   ],
   "source": [
    "print('Accuracy MLP: '+ str(tuned_model.evaluate(Xtest.values,Ytest.values)[1]))\n",
    "print('Loss value: '+ str(tuned_model.evaluate(Xtest.values,Ytest.values)[0]))\n",
    "\n",
    "Y_pred = tuned_model.predict_classes(Xtest.values, batch_size=200, verbose=0)\n",
    "print('Recall_score: ' + str(recall_score(Ytest.values,Y_pred)))\n",
    "print('Precision_score: ' + str(precision_score(Ytest.values, Y_pred)))\n",
    "print('F-score: ' + str(f1_score(Ytest.values,Y_pred)))\n",
    "conf_matrix(Y_pred)"
   ]
  },
  {
   "cell_type": "markdown",
   "metadata": {},
   "source": [
    "### Ensembling : Stacking"
   ]
  },
  {
   "cell_type": "markdown",
   "metadata": {},
   "source": [
    "#### Stacking is an ensemble learning technique to combine multiple classification models via a meta-classifier. The individual classification models are trained based on the complete training set; then, the meta-classifier is fitted based on the outputs -- meta-features -- of the individual classification models in the ensemble. The meta-classifier can either be trained on the predicted class labels or probabilities from the ensemble."
   ]
  },
  {
   "cell_type": "code",
   "execution_count": 46,
   "metadata": {
    "scrolled": true
   },
   "outputs": [
    {
     "name": "stdout",
     "output_type": "stream",
     "text": [
      "model  <keras.wrappers.scikit_learn.KerasClassifier object at 0x0000023408F51AC8>\n",
      ">dnn 0.998 (0.000)\n",
      "model  RandomForestClassifier(n_jobs=-1)\n",
      ">rf 0.999 (0.000)\n",
      "model  KNeighborsClassifier()\n",
      ">knn 0.999 (0.000)\n",
      "model  StackingClassifier(classifiers=[<keras.wrappers.scikit_learn.KerasClassifier object at 0x0000023408F51AC8>],\n",
      "                   meta_classifier=RandomForestClassifier(), use_probas=True)\n",
      ">stackdnn 0.998 (0.000)\n",
      "model  StackingClassifier(classifiers=[<keras.wrappers.scikit_learn.KerasClassifier object at 0x0000023408F51AC8>,\n",
      "                                RandomForestClassifier(n_jobs=-1)],\n",
      "                   meta_classifier=RandomForestClassifier(), use_probas=True)\n",
      ">stackdnnrandom 0.999 (0.000)\n"
     ]
    }
   ],
   "source": [
    "#using dnn, knn, randomn forest classifiers for ensembling\n",
    "random_forest_classifier = RandomForestClassifier(n_jobs = -1, n_estimators = 100,\n",
    "                                 bootstrap = True)\n",
    "\n",
    "dnn_model = KerasClassifier(build_fn=create_model, verbose=0)\n",
    "dnn_model._estimator_type = \"classifier\"\n",
    "\n",
    "knn_model = KNeighborsClassifier(n_neighbors = 5,weights = 'uniform' )\n",
    "\n",
    "\n",
    "#meta classifier\n",
    "random_forest =RandomForestClassifier()\n",
    "\n",
    "def get_stacking_with_dnn():\n",
    "    stacking_classifier = StackingClassifier(classifiers=[dnn_model], \n",
    "                          use_probas=True,\n",
    "                          meta_classifier=random_forest)\n",
    "    return stacking_classifier\n",
    "\n",
    "def get_stacking_with_dnn_and_rand():\n",
    "    stacking_classifier = StackingClassifier(classifiers=[dnn_model,random_forest_classifier], \n",
    "                          use_probas=True,\n",
    "                          meta_classifier=random_forest)\n",
    "    return stacking_classifier\n",
    "\n",
    "# get a list of models to evaluate\n",
    "def get_models():\n",
    "    models = dict()\n",
    "    models['dnn'] = dnn_model\n",
    "    models['rf'] = random_forest_classifier\n",
    "    models['knn'] = knn_model\n",
    "    models['stackdnn'] = get_stacking_with_dnn()\n",
    "    models['stackdnnrandom'] = get_stacking_with_dnn_and_rand()\n",
    "\n",
    "    return models\n",
    "\n",
    "# evaluate a give model using cross-validation\n",
    "def evaluate_model(model, X, y):\n",
    "    cv = RepeatedStratifiedKFold(n_splits=10, n_repeats=3, random_state=1)\n",
    "    print('model ',model)\n",
    "    model.fit(X, y)\n",
    "    scores = cross_val_score(model, Xtest, Ytest, scoring='accuracy', cv=cv, n_jobs=-1, error_score='raise')\n",
    "    #scores = cross_val_score(model, X, y, scoring='accuracy', cv=cv, n_jobs=-1)\n",
    "    return scores\n",
    "\n",
    "# get the models to evaluate\n",
    "models = get_models()\n",
    "# evaluate the models and store results\n",
    "results, names = list(), list()\n",
    "for name, model in models.items():\n",
    "    scores = evaluate_model(model, X_adasampled, Y_adasampled)\n",
    "    results.append(scores)\n",
    "    names.append(name)\n",
    "    print('>%s %.3f (%.3f)' % (name, mean(scores), std(scores)))\n"
   ]
  },
  {
   "cell_type": "markdown",
   "metadata": {},
   "source": [
    "#### we have now compared KNN, DNN, Random Forest and a hybrid model(using DNN and Random Forest)\n",
    "#### If we look at the accuracy, the hybrid model shows higher accuracy compared to other models because two models were combined to get a better result.In our case the output of DNN is the input for the random forest classifier(meta classifier)"
   ]
  },
  {
   "cell_type": "code",
   "execution_count": 47,
   "metadata": {},
   "outputs": [
    {
     "data": {
      "image/png": "[encoded data removed]",
      "text/plain": [
       "<Figure size 432x288 with 1 Axes>"
      ]
     },
     "metadata": {
      "needs_background": "light"
     },
     "output_type": "display_data"
    }
   ],
   "source": [
    "# plot model performance for comparison\n",
    "plt.boxplot(results, labels=names, showmeans=True)\n",
    "plt.show()"
   ]
  }
 ],
 "metadata": {
  "anaconda-cloud": {},
  "kernelspec": {
   "display_name": "Python 3",
   "language": "python",
   "name": "python3"
  },
  "language_info": {
   "codemirror_mode": {
    "name": "ipython",
    "version": 3
   },
   "file_extension": ".py",
   "mimetype": "text/x-python",
   "name": "python",
   "nbconvert_exporter": "python",
   "pygments_lexer": "ipython3",
   "version": "3.7.9"
  }
 },
 "nbformat": 4,
 "nbformat_minor": 1
}
